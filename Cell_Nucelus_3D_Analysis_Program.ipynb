{
 "cells": [
  {
   "cell_type": "markdown",
   "metadata": {},
   "source": [
    "# Analysis Work Flow of Nucleus Segmentation, Tracking and Visualization \n",
    "\n",
    "This notebook contains the workflow for tracking Cell nucelus protein binding intensities and geometries (e.g. Volume) in time-lapse movie.\n",
    "\n",
    "Key steps of the workflows:\n",
    "\n",
    "* Auto-Contrast intensity normalization\n",
    "* 3D Gaussian smoothing \n",
    "* Masked-object Thresholding\n",
    "* Watershed to remove merged objects\n",
    "* Using trackpy to link frames\n",
    "* Visualize segmentation and tracking results\n",
    "* Plotting volume and protein binding changes as a function of time \n",
    "* Export data and statistics table\n",
    "\n"
   ]
  },
  {
   "cell_type": "markdown",
   "metadata": {},
   "source": [
    "## Loading Required Libraries"
   ]
  },
  {
   "cell_type": "code",
   "execution_count": 3,
   "metadata": {},
   "outputs": [],
   "source": [
    "import numpy as np\n",
    "\n",
    "from aicssegmentation.core.visual import segmentation_quick_view\n",
    "import matplotlib.pyplot as plt\n",
    "plt.rcParams[\"figure.figsize\"] = [16, 12]\n",
    "\n",
    "from aicssegmentation.pre_processing_utils import intensity_normalization, image_smoothing_gaussian_3d\n",
    "from skimage.morphology import remove_small_objects, binary_closing, ball, disk, erosion, dilation   # function for post-processing (size filter)\n",
    "from aicssegmentation.core.MO_threshold import MO\n",
    "from aicssegmentation.core.utils import get_middle_frame, get_3dseed_from_mid_frame\n",
    "from skimage import transform, measure\n",
    "import h5py\n",
    "from tqdm import tqdm\n",
    "from pandas import DataFrame\n",
    "import warnings\n",
    "import h5py\n",
    "from skimage.morphology import watershed, dilation, ball\n",
    "from skimage.measure import label\n",
    "from scipy.ndimage import distance_transform_edt\n",
    "from aicssegmentation.core.utils import hole_filling\n",
    "import trackpy as tp"
   ]
  },
  {
   "cell_type": "markdown",
   "metadata": {},
   "source": [
    "## Loading Data, loading Visualization Platform and make some background functions"
   ]
  },
  {
   "cell_type": "code",
   "execution_count": 4,
   "metadata": {},
   "outputs": [],
   "source": [
    "FILE_NAME = \"/Users/zhouyangshen/Desktop/Python_Nucleus_Segmentation/Sample Data/5_min_75_%_shock_1_uM_ionomycin_014_1.hdf5\"\n",
    "f = h5py.File(FILE_NAME, 'r')\n",
    "\n",
    "image = f['561 Channel'][:]\n"
   ]
  },
  {
   "cell_type": "code",
   "execution_count": 5,
   "metadata": {},
   "outputs": [],
   "source": [
    "import napari\n",
    "%gui qt"
   ]
  },
  {
   "cell_type": "code",
   "execution_count": 6,
   "metadata": {},
   "outputs": [],
   "source": [
    "#Make a mask to clear border\n",
    "from skimage.segmentation import clear_border\n",
    "mask = np.ones(image[0].shape)\n",
    "\n",
    "for n in range(mask.shape[0]):\n",
    "   im_slice = mask[n,:,:]\n",
    "   im_slice[0,:] = 0\n",
    "   im_slice[:,0] = 0\n",
    "   im_slice[:,-1] = 0\n",
    "   im_slice[-1,:] = 0\n",
    "\n",
    "mask = mask.astype(np.bool)\n"
   ]
  },
  {
   "cell_type": "code",
   "execution_count": 39,
   "metadata": {},
   "outputs": [],
   "source": [
    "# Make a function to get middle frame based on segmented area\n",
    "def get_middle_frame_area(labelled_image_stack):\n",
    "    max_area = 0\n",
    "    max_n = 0\n",
    "    for z in range(labelled_image_stack.shape[0]):\n",
    "       img_slice = labelled_image_stack[z,:,:]\n",
    "       area = np.count_nonzero(img_slice)\n",
    "       \n",
    "       if area >= max_area:\n",
    "          max_area = area\n",
    "          max_n = z\n",
    "    \n",
    "    return max_n"
   ]
  },
  {
   "cell_type": "markdown",
   "metadata": {},
   "source": [
    "## Make the 3D Cell Segmentation Pipeline \n",
    "\n",
    "This segmentation pipeline has two parts. The first part is image normalization and smoothing. The second part is image segmentation\n",
    "\n",
    "* First Part: We first apply intensity normalization and 3D Gaussian Smooth on one time point. Then we propagate to all time points. Both functions are developed by Allen Institute Segmenter. <br /> <br /> \n",
    "Link: https://github.com/AllenInstitute/aics-segmentation\n",
    "<br /> <br /> \n",
    "* Second Part: We first apply Mask-Object thresholding (MO) and Watershed on one time point. In brief, MO algorithm firstly applies low threshoding (e.g. median thresholding) to roughly mask out each object. Then apply high thresholding (e.g. Ostu thresholding) within each individual object. This way it can account intensity varaiation from cell to cell. Watershed here is to seperate falsely merged object. Both algorithms are developed by Allen Segmenter. Then we propogate to all time points. \n",
    "\n"
   ]
  },
  {
   "cell_type": "code",
   "execution_count": 7,
   "metadata": {},
   "outputs": [],
   "source": [
    "# Initiate the cell segmentation class\n",
    "\n",
    "class cell_segment:\n",
    "    def __init__ (self, Time_lapse_image, intensity_scaling_param = [40000], gaussian_smoothing_sigma = 1 ):\n",
    "        self.image = Time_lapse_image.copy()\n",
    "        self.Time_pts = Time_lapse_image.shape[0]\n",
    "        \n",
    "        self.normalization_param = intensity_scaling_param\n",
    "        self.smooth_param = gaussian_smoothing_sigma\n",
    "        \n",
    "        self.structure_img_smooth = np.zeros(self.image.shape, dtype = np.float64)\n",
    "        self.structure_img = np.zeros(self.image.shape, dtype = np.float64)\n",
    "        self.segmented_object_image = np.zeros(self.image.shape, dtype = np.uint8)\n",
    "        \n",
    "        self.watershed_map_list = np.zeros(self.image.shape, dtype = np.uint8)\n",
    "        self.seed_map_list = np.zeros(self.image.shape, dtype = np.uint8)\n",
    "        \n",
    "        \n",
    "    # define a function to apply normalization and smooth on Time lapse images\n",
    "    def img_norm_smooth (self):\n",
    "        for t in tqdm(range(self.Time_pts)):\n",
    "            img = self.image[t].copy()\n",
    "            self.structure_img[t] = intensity_normalization(img, scaling_param=self.normalization_param)\n",
    "            self.structure_img_smooth[t] = image_smoothing_gaussian_3d(self.structure_img[t], sigma=self.smooth_param)\n",
    "        \n",
    "   # define a function to apply Masked Object thresholding followed by seed-based watershed to each time point\n",
    "    def MO_threshold_Time (self):\n",
    "        for t in tqdm(range(self.Time_pts)):\n",
    "            bw, object_for_debug = MO(self.structure_img_smooth[t], global_thresh_method='ave', object_minArea=10000, return_object=True,extra_criteria=True)\n",
    "\n",
    "            bw = hole_filling(bw, 1, 5000, fill_2d=True)\n",
    "            mid_z = get_middle_frame(bw, method='intensity')\n",
    "            bw_mid_z = bw[mid_z,:,:]\n",
    "            seed = get_3dseed_from_mid_frame(bw_mid_z, bw.shape, mid_z, hole_min=3000)\n",
    "            watershed_map = -1*distance_transform_edt(bw)\n",
    "            seg = watershed(watershed_map, markers=label(seed), mask=bw, watershed_line=True)\n",
    "            seg = clear_border(seg, mask = mask)\n",
    "            \n",
    "            seg = remove_small_objects(seg>0, min_size=10000, connectivity=1, in_place=False)\n",
    "            seg = hole_filling(seg, 1, 40000, fill_2d=True)\n",
    "            #final_seg = segmentation_quick_view(seg)\n",
    "            \n",
    "            final_seg = label(seg)\n",
    "            \n",
    "            self.segmented_object_image[t] = final_seg\n",
    "            self.watershed_map_list[t] = watershed_map\n",
    "            self.seed_map_list[t] = seed\n",
    "        "
   ]
  },
  {
   "cell_type": "markdown",
   "metadata": {},
   "source": [
    "## 3D Cell Segmentation in Timelapse"
   ]
  },
  {
   "cell_type": "code",
   "execution_count": 8,
   "metadata": {},
   "outputs": [
    {
     "name": "stderr",
     "output_type": "stream",
     "text": [
      "\r",
      "  0%|          | 0/70 [00:00<?, ?it/s]"
     ]
    },
    {
     "name": "stdout",
     "output_type": "stream",
     "text": [
      "intensity normalization: using min-max normalization with absolute intensity upper bound 40000\n",
      "intensity normalization completes\n"
     ]
    },
    {
     "name": "stderr",
     "output_type": "stream",
     "text": [
      "\r",
      "  1%|▏         | 1/70 [00:00<00:20,  3.37it/s]"
     ]
    },
    {
     "name": "stdout",
     "output_type": "stream",
     "text": [
      "intensity normalization: using min-max normalization with absolute intensity upper bound 40000\n",
      "intensity normalization completes\n"
     ]
    },
    {
     "name": "stderr",
     "output_type": "stream",
     "text": [
      "\r",
      "  3%|▎         | 2/70 [00:00<00:19,  3.44it/s]"
     ]
    },
    {
     "name": "stdout",
     "output_type": "stream",
     "text": [
      "intensity normalization: using min-max normalization with absolute intensity upper bound 40000\n",
      "intensity normalization completes\n"
     ]
    },
    {
     "name": "stderr",
     "output_type": "stream",
     "text": [
      "\r",
      "  4%|▍         | 3/70 [00:00<00:19,  3.51it/s]"
     ]
    },
    {
     "name": "stdout",
     "output_type": "stream",
     "text": [
      "intensity normalization: using min-max normalization with absolute intensity upper bound 40000\n",
      "intensity normalization completes\n"
     ]
    },
    {
     "name": "stderr",
     "output_type": "stream",
     "text": [
      "\r",
      "  6%|▌         | 4/70 [00:01<00:18,  3.56it/s]"
     ]
    },
    {
     "name": "stdout",
     "output_type": "stream",
     "text": [
      "intensity normalization: using min-max normalization with absolute intensity upper bound 40000\n",
      "intensity normalization completes\n"
     ]
    },
    {
     "name": "stderr",
     "output_type": "stream",
     "text": [
      "\r",
      "  7%|▋         | 5/70 [00:01<00:18,  3.61it/s]"
     ]
    },
    {
     "name": "stdout",
     "output_type": "stream",
     "text": [
      "intensity normalization: using min-max normalization with absolute intensity upper bound 40000\n",
      "intensity normalization completes\n"
     ]
    },
    {
     "name": "stderr",
     "output_type": "stream",
     "text": [
      "\r",
      "  9%|▊         | 6/70 [00:01<00:17,  3.63it/s]"
     ]
    },
    {
     "name": "stdout",
     "output_type": "stream",
     "text": [
      "intensity normalization: using min-max normalization with absolute intensity upper bound 40000\n",
      "intensity normalization completes\n"
     ]
    },
    {
     "name": "stderr",
     "output_type": "stream",
     "text": [
      "\r",
      " 10%|█         | 7/70 [00:01<00:17,  3.64it/s]"
     ]
    },
    {
     "name": "stdout",
     "output_type": "stream",
     "text": [
      "intensity normalization: using min-max normalization with absolute intensity upper bound 40000\n",
      "intensity normalization completes\n"
     ]
    },
    {
     "name": "stderr",
     "output_type": "stream",
     "text": [
      "\r",
      " 11%|█▏        | 8/70 [00:02<00:16,  3.65it/s]"
     ]
    },
    {
     "name": "stdout",
     "output_type": "stream",
     "text": [
      "intensity normalization: using min-max normalization with absolute intensity upper bound 40000\n",
      "intensity normalization completes\n"
     ]
    },
    {
     "name": "stderr",
     "output_type": "stream",
     "text": [
      "\r",
      " 13%|█▎        | 9/70 [00:02<00:16,  3.65it/s]"
     ]
    },
    {
     "name": "stdout",
     "output_type": "stream",
     "text": [
      "intensity normalization: using min-max normalization with absolute intensity upper bound 40000\n",
      "intensity normalization completes\n"
     ]
    },
    {
     "name": "stderr",
     "output_type": "stream",
     "text": [
      "\r",
      " 14%|█▍        | 10/70 [00:02<00:16,  3.62it/s]"
     ]
    },
    {
     "name": "stdout",
     "output_type": "stream",
     "text": [
      "intensity normalization: using min-max normalization with absolute intensity upper bound 40000\n",
      "intensity normalization completes\n"
     ]
    },
    {
     "name": "stderr",
     "output_type": "stream",
     "text": [
      "\r",
      " 16%|█▌        | 11/70 [00:03<00:16,  3.63it/s]"
     ]
    },
    {
     "name": "stdout",
     "output_type": "stream",
     "text": [
      "intensity normalization: using min-max normalization with absolute intensity upper bound 40000\n",
      "intensity normalization completes\n"
     ]
    },
    {
     "name": "stderr",
     "output_type": "stream",
     "text": [
      "\r",
      " 17%|█▋        | 12/70 [00:03<00:15,  3.63it/s]"
     ]
    },
    {
     "name": "stdout",
     "output_type": "stream",
     "text": [
      "intensity normalization: using min-max normalization with absolute intensity upper bound 40000\n",
      "intensity normalization completes\n"
     ]
    },
    {
     "name": "stderr",
     "output_type": "stream",
     "text": [
      "\r",
      " 19%|█▊        | 13/70 [00:03<00:15,  3.65it/s]"
     ]
    },
    {
     "name": "stdout",
     "output_type": "stream",
     "text": [
      "intensity normalization: using min-max normalization with absolute intensity upper bound 40000\n",
      "intensity normalization completes\n"
     ]
    },
    {
     "name": "stderr",
     "output_type": "stream",
     "text": [
      "\r",
      " 20%|██        | 14/70 [00:03<00:15,  3.62it/s]"
     ]
    },
    {
     "name": "stdout",
     "output_type": "stream",
     "text": [
      "intensity normalization: using min-max normalization with absolute intensity upper bound 40000\n",
      "intensity normalization completes\n"
     ]
    },
    {
     "name": "stderr",
     "output_type": "stream",
     "text": [
      "\r",
      " 21%|██▏       | 15/70 [00:04<00:15,  3.62it/s]"
     ]
    },
    {
     "name": "stdout",
     "output_type": "stream",
     "text": [
      "intensity normalization: using min-max normalization with absolute intensity upper bound 40000\n",
      "intensity normalization completes\n"
     ]
    },
    {
     "name": "stderr",
     "output_type": "stream",
     "text": [
      "\r",
      " 23%|██▎       | 16/70 [00:04<00:14,  3.63it/s]"
     ]
    },
    {
     "name": "stdout",
     "output_type": "stream",
     "text": [
      "intensity normalization: using min-max normalization with absolute intensity upper bound 40000\n",
      "intensity normalization completes\n"
     ]
    },
    {
     "name": "stderr",
     "output_type": "stream",
     "text": [
      "\r",
      " 24%|██▍       | 17/70 [00:04<00:14,  3.62it/s]"
     ]
    },
    {
     "name": "stdout",
     "output_type": "stream",
     "text": [
      "intensity normalization: using min-max normalization with absolute intensity upper bound 40000\n",
      "intensity normalization completes\n"
     ]
    },
    {
     "name": "stderr",
     "output_type": "stream",
     "text": [
      "\r",
      " 26%|██▌       | 18/70 [00:04<00:14,  3.61it/s]"
     ]
    },
    {
     "name": "stdout",
     "output_type": "stream",
     "text": [
      "intensity normalization: using min-max normalization with absolute intensity upper bound 40000\n",
      "intensity normalization completes\n"
     ]
    },
    {
     "name": "stderr",
     "output_type": "stream",
     "text": [
      "\r",
      " 27%|██▋       | 19/70 [00:05<00:14,  3.63it/s]"
     ]
    },
    {
     "name": "stdout",
     "output_type": "stream",
     "text": [
      "intensity normalization: using min-max normalization with absolute intensity upper bound 40000\n",
      "intensity normalization completes\n"
     ]
    },
    {
     "name": "stderr",
     "output_type": "stream",
     "text": [
      "\r",
      " 29%|██▊       | 20/70 [00:05<00:13,  3.62it/s]"
     ]
    },
    {
     "name": "stdout",
     "output_type": "stream",
     "text": [
      "intensity normalization: using min-max normalization with absolute intensity upper bound 40000\n",
      "intensity normalization completes\n"
     ]
    },
    {
     "name": "stderr",
     "output_type": "stream",
     "text": [
      "\r",
      " 30%|███       | 21/70 [00:05<00:13,  3.65it/s]"
     ]
    },
    {
     "name": "stdout",
     "output_type": "stream",
     "text": [
      "intensity normalization: using min-max normalization with absolute intensity upper bound 40000\n",
      "intensity normalization completes\n"
     ]
    },
    {
     "name": "stderr",
     "output_type": "stream",
     "text": [
      "\r",
      " 31%|███▏      | 22/70 [00:06<00:13,  3.63it/s]"
     ]
    },
    {
     "name": "stdout",
     "output_type": "stream",
     "text": [
      "intensity normalization: using min-max normalization with absolute intensity upper bound 40000\n",
      "intensity normalization completes\n"
     ]
    },
    {
     "name": "stderr",
     "output_type": "stream",
     "text": [
      "\r",
      " 33%|███▎      | 23/70 [00:06<00:12,  3.63it/s]"
     ]
    },
    {
     "name": "stdout",
     "output_type": "stream",
     "text": [
      "intensity normalization: using min-max normalization with absolute intensity upper bound 40000\n",
      "intensity normalization completes\n"
     ]
    },
    {
     "name": "stderr",
     "output_type": "stream",
     "text": [
      "\r",
      " 34%|███▍      | 24/70 [00:06<00:12,  3.62it/s]"
     ]
    },
    {
     "name": "stdout",
     "output_type": "stream",
     "text": [
      "intensity normalization: using min-max normalization with absolute intensity upper bound 40000\n",
      "intensity normalization completes\n"
     ]
    },
    {
     "name": "stderr",
     "output_type": "stream",
     "text": [
      "\r",
      " 36%|███▌      | 25/70 [00:06<00:12,  3.62it/s]"
     ]
    },
    {
     "name": "stdout",
     "output_type": "stream",
     "text": [
      "intensity normalization: using min-max normalization with absolute intensity upper bound 40000\n",
      "intensity normalization completes\n"
     ]
    },
    {
     "name": "stderr",
     "output_type": "stream",
     "text": [
      "\r",
      " 37%|███▋      | 26/70 [00:07<00:12,  3.64it/s]"
     ]
    },
    {
     "name": "stdout",
     "output_type": "stream",
     "text": [
      "intensity normalization: using min-max normalization with absolute intensity upper bound 40000\n",
      "intensity normalization completes\n"
     ]
    },
    {
     "name": "stderr",
     "output_type": "stream",
     "text": [
      "\r",
      " 39%|███▊      | 27/70 [00:07<00:11,  3.64it/s]"
     ]
    },
    {
     "name": "stdout",
     "output_type": "stream",
     "text": [
      "intensity normalization: using min-max normalization with absolute intensity upper bound 40000\n",
      "intensity normalization completes\n"
     ]
    },
    {
     "name": "stderr",
     "output_type": "stream",
     "text": [
      "\r",
      " 40%|████      | 28/70 [00:07<00:11,  3.65it/s]"
     ]
    },
    {
     "name": "stdout",
     "output_type": "stream",
     "text": [
      "intensity normalization: using min-max normalization with absolute intensity upper bound 40000\n",
      "intensity normalization completes\n"
     ]
    },
    {
     "name": "stderr",
     "output_type": "stream",
     "text": [
      "\r",
      " 41%|████▏     | 29/70 [00:07<00:11,  3.65it/s]"
     ]
    },
    {
     "name": "stdout",
     "output_type": "stream",
     "text": [
      "intensity normalization: using min-max normalization with absolute intensity upper bound 40000\n",
      "intensity normalization completes\n"
     ]
    },
    {
     "name": "stderr",
     "output_type": "stream",
     "text": [
      "\r",
      " 43%|████▎     | 30/70 [00:08<00:10,  3.64it/s]"
     ]
    },
    {
     "name": "stdout",
     "output_type": "stream",
     "text": [
      "intensity normalization: using min-max normalization with absolute intensity upper bound 40000\n",
      "intensity normalization completes\n"
     ]
    },
    {
     "name": "stderr",
     "output_type": "stream",
     "text": [
      "\r",
      " 44%|████▍     | 31/70 [00:08<00:10,  3.65it/s]"
     ]
    },
    {
     "name": "stdout",
     "output_type": "stream",
     "text": [
      "intensity normalization: using min-max normalization with absolute intensity upper bound 40000\n",
      "intensity normalization completes\n"
     ]
    },
    {
     "name": "stderr",
     "output_type": "stream",
     "text": [
      "\r",
      " 46%|████▌     | 32/70 [00:08<00:10,  3.66it/s]"
     ]
    },
    {
     "name": "stdout",
     "output_type": "stream",
     "text": [
      "intensity normalization: using min-max normalization with absolute intensity upper bound 40000\n",
      "intensity normalization completes\n"
     ]
    },
    {
     "name": "stderr",
     "output_type": "stream",
     "text": [
      "\r",
      " 47%|████▋     | 33/70 [00:09<00:10,  3.66it/s]"
     ]
    },
    {
     "name": "stdout",
     "output_type": "stream",
     "text": [
      "intensity normalization: using min-max normalization with absolute intensity upper bound 40000\n",
      "intensity normalization completes\n"
     ]
    },
    {
     "name": "stderr",
     "output_type": "stream",
     "text": [
      "\r",
      " 49%|████▊     | 34/70 [00:09<00:09,  3.65it/s]"
     ]
    },
    {
     "name": "stdout",
     "output_type": "stream",
     "text": [
      "intensity normalization: using min-max normalization with absolute intensity upper bound 40000\n",
      "intensity normalization completes\n"
     ]
    },
    {
     "name": "stderr",
     "output_type": "stream",
     "text": [
      "\r",
      " 50%|█████     | 35/70 [00:09<00:09,  3.66it/s]"
     ]
    },
    {
     "name": "stdout",
     "output_type": "stream",
     "text": [
      "intensity normalization: using min-max normalization with absolute intensity upper bound 40000\n",
      "intensity normalization completes\n"
     ]
    },
    {
     "name": "stderr",
     "output_type": "stream",
     "text": [
      "\r",
      " 51%|█████▏    | 36/70 [00:09<00:09,  3.66it/s]"
     ]
    },
    {
     "name": "stdout",
     "output_type": "stream",
     "text": [
      "intensity normalization: using min-max normalization with absolute intensity upper bound 40000\n",
      "intensity normalization completes\n"
     ]
    },
    {
     "name": "stderr",
     "output_type": "stream",
     "text": [
      "\r",
      " 53%|█████▎    | 37/70 [00:10<00:09,  3.64it/s]"
     ]
    },
    {
     "name": "stdout",
     "output_type": "stream",
     "text": [
      "intensity normalization: using min-max normalization with absolute intensity upper bound 40000\n",
      "intensity normalization completes\n"
     ]
    },
    {
     "name": "stderr",
     "output_type": "stream",
     "text": [
      "\r",
      " 54%|█████▍    | 38/70 [00:10<00:08,  3.65it/s]"
     ]
    },
    {
     "name": "stdout",
     "output_type": "stream",
     "text": [
      "intensity normalization: using min-max normalization with absolute intensity upper bound 40000\n",
      "intensity normalization completes\n"
     ]
    },
    {
     "name": "stderr",
     "output_type": "stream",
     "text": [
      "\r",
      " 56%|█████▌    | 39/70 [00:10<00:08,  3.64it/s]"
     ]
    },
    {
     "name": "stdout",
     "output_type": "stream",
     "text": [
      "intensity normalization: using min-max normalization with absolute intensity upper bound 40000\n",
      "intensity normalization completes\n"
     ]
    },
    {
     "name": "stderr",
     "output_type": "stream",
     "text": [
      "\r",
      " 57%|█████▋    | 40/70 [00:11<00:08,  3.64it/s]"
     ]
    },
    {
     "name": "stdout",
     "output_type": "stream",
     "text": [
      "intensity normalization: using min-max normalization with absolute intensity upper bound 40000\n",
      "intensity normalization completes\n"
     ]
    },
    {
     "name": "stderr",
     "output_type": "stream",
     "text": [
      "\r",
      " 59%|█████▊    | 41/70 [00:11<00:07,  3.65it/s]"
     ]
    },
    {
     "name": "stdout",
     "output_type": "stream",
     "text": [
      "intensity normalization: using min-max normalization with absolute intensity upper bound 40000\n",
      "intensity normalization completes\n"
     ]
    },
    {
     "name": "stderr",
     "output_type": "stream",
     "text": [
      "\r",
      " 60%|██████    | 42/70 [00:11<00:07,  3.65it/s]"
     ]
    },
    {
     "name": "stdout",
     "output_type": "stream",
     "text": [
      "intensity normalization: using min-max normalization with absolute intensity upper bound 40000\n",
      "intensity normalization completes\n"
     ]
    },
    {
     "name": "stderr",
     "output_type": "stream",
     "text": [
      "\r",
      " 61%|██████▏   | 43/70 [00:11<00:07,  3.64it/s]"
     ]
    },
    {
     "name": "stdout",
     "output_type": "stream",
     "text": [
      "intensity normalization: using min-max normalization with absolute intensity upper bound 40000\n",
      "intensity normalization completes\n"
     ]
    },
    {
     "name": "stderr",
     "output_type": "stream",
     "text": [
      "\r",
      " 63%|██████▎   | 44/70 [00:12<00:07,  3.64it/s]"
     ]
    },
    {
     "name": "stdout",
     "output_type": "stream",
     "text": [
      "intensity normalization: using min-max normalization with absolute intensity upper bound 40000\n",
      "intensity normalization completes\n"
     ]
    },
    {
     "name": "stderr",
     "output_type": "stream",
     "text": [
      "\r",
      " 64%|██████▍   | 45/70 [00:12<00:06,  3.65it/s]"
     ]
    },
    {
     "name": "stdout",
     "output_type": "stream",
     "text": [
      "intensity normalization: using min-max normalization with absolute intensity upper bound 40000\n",
      "intensity normalization completes\n"
     ]
    },
    {
     "name": "stderr",
     "output_type": "stream",
     "text": [
      "\r",
      " 66%|██████▌   | 46/70 [00:12<00:06,  3.65it/s]"
     ]
    },
    {
     "name": "stdout",
     "output_type": "stream",
     "text": [
      "intensity normalization: using min-max normalization with absolute intensity upper bound 40000\n",
      "intensity normalization completes\n"
     ]
    },
    {
     "name": "stderr",
     "output_type": "stream",
     "text": [
      "\r",
      " 67%|██████▋   | 47/70 [00:12<00:06,  3.64it/s]"
     ]
    },
    {
     "name": "stdout",
     "output_type": "stream",
     "text": [
      "intensity normalization: using min-max normalization with absolute intensity upper bound 40000\n",
      "intensity normalization completes\n"
     ]
    },
    {
     "name": "stderr",
     "output_type": "stream",
     "text": [
      "\r",
      " 69%|██████▊   | 48/70 [00:13<00:06,  3.65it/s]"
     ]
    },
    {
     "name": "stdout",
     "output_type": "stream",
     "text": [
      "intensity normalization: using min-max normalization with absolute intensity upper bound 40000\n",
      "intensity normalization completes\n"
     ]
    },
    {
     "name": "stderr",
     "output_type": "stream",
     "text": [
      "\r",
      " 70%|███████   | 49/70 [00:13<00:05,  3.66it/s]"
     ]
    },
    {
     "name": "stdout",
     "output_type": "stream",
     "text": [
      "intensity normalization: using min-max normalization with absolute intensity upper bound 40000\n",
      "intensity normalization completes\n"
     ]
    },
    {
     "name": "stderr",
     "output_type": "stream",
     "text": [
      "\r",
      " 71%|███████▏  | 50/70 [00:13<00:05,  3.67it/s]"
     ]
    },
    {
     "name": "stdout",
     "output_type": "stream",
     "text": [
      "intensity normalization: using min-max normalization with absolute intensity upper bound 40000\n",
      "intensity normalization completes\n"
     ]
    },
    {
     "name": "stderr",
     "output_type": "stream",
     "text": [
      "\r",
      " 73%|███████▎  | 51/70 [00:14<00:05,  3.66it/s]"
     ]
    },
    {
     "name": "stdout",
     "output_type": "stream",
     "text": [
      "intensity normalization: using min-max normalization with absolute intensity upper bound 40000\n",
      "intensity normalization completes\n"
     ]
    },
    {
     "name": "stderr",
     "output_type": "stream",
     "text": [
      "\r",
      " 74%|███████▍  | 52/70 [00:14<00:04,  3.67it/s]"
     ]
    },
    {
     "name": "stdout",
     "output_type": "stream",
     "text": [
      "intensity normalization: using min-max normalization with absolute intensity upper bound 40000\n",
      "intensity normalization completes\n"
     ]
    },
    {
     "name": "stderr",
     "output_type": "stream",
     "text": [
      "\r",
      " 76%|███████▌  | 53/70 [00:14<00:04,  3.68it/s]"
     ]
    },
    {
     "name": "stdout",
     "output_type": "stream",
     "text": [
      "intensity normalization: using min-max normalization with absolute intensity upper bound 40000\n",
      "intensity normalization completes\n"
     ]
    },
    {
     "name": "stderr",
     "output_type": "stream",
     "text": [
      "\r",
      " 77%|███████▋  | 54/70 [00:14<00:04,  3.67it/s]"
     ]
    },
    {
     "name": "stdout",
     "output_type": "stream",
     "text": [
      "intensity normalization: using min-max normalization with absolute intensity upper bound 40000\n",
      "intensity normalization completes\n"
     ]
    },
    {
     "name": "stderr",
     "output_type": "stream",
     "text": [
      "\r",
      " 79%|███████▊  | 55/70 [00:15<00:04,  3.68it/s]"
     ]
    },
    {
     "name": "stdout",
     "output_type": "stream",
     "text": [
      "intensity normalization: using min-max normalization with absolute intensity upper bound 40000\n",
      "intensity normalization completes\n"
     ]
    },
    {
     "name": "stderr",
     "output_type": "stream",
     "text": [
      "\r",
      " 80%|████████  | 56/70 [00:15<00:03,  3.67it/s]"
     ]
    },
    {
     "name": "stdout",
     "output_type": "stream",
     "text": [
      "intensity normalization: using min-max normalization with absolute intensity upper bound 40000\n",
      "intensity normalization completes\n"
     ]
    },
    {
     "name": "stderr",
     "output_type": "stream",
     "text": [
      "\r",
      " 81%|████████▏ | 57/70 [00:15<00:03,  3.66it/s]"
     ]
    },
    {
     "name": "stdout",
     "output_type": "stream",
     "text": [
      "intensity normalization: using min-max normalization with absolute intensity upper bound 40000\n",
      "intensity normalization completes\n"
     ]
    },
    {
     "name": "stderr",
     "output_type": "stream",
     "text": [
      "\r",
      " 83%|████████▎ | 58/70 [00:15<00:03,  3.62it/s]"
     ]
    },
    {
     "name": "stdout",
     "output_type": "stream",
     "text": [
      "intensity normalization: using min-max normalization with absolute intensity upper bound 40000\n",
      "intensity normalization completes\n"
     ]
    },
    {
     "name": "stderr",
     "output_type": "stream",
     "text": [
      "\r",
      " 84%|████████▍ | 59/70 [00:16<00:03,  3.62it/s]"
     ]
    },
    {
     "name": "stdout",
     "output_type": "stream",
     "text": [
      "intensity normalization: using min-max normalization with absolute intensity upper bound 40000\n",
      "intensity normalization completes\n"
     ]
    },
    {
     "name": "stderr",
     "output_type": "stream",
     "text": [
      "\r",
      " 86%|████████▌ | 60/70 [00:16<00:02,  3.62it/s]"
     ]
    },
    {
     "name": "stdout",
     "output_type": "stream",
     "text": [
      "intensity normalization: using min-max normalization with absolute intensity upper bound 40000\n",
      "intensity normalization completes\n"
     ]
    },
    {
     "name": "stderr",
     "output_type": "stream",
     "text": [
      "\r",
      " 87%|████████▋ | 61/70 [00:16<00:02,  3.63it/s]"
     ]
    },
    {
     "name": "stdout",
     "output_type": "stream",
     "text": [
      "intensity normalization: using min-max normalization with absolute intensity upper bound 40000\n",
      "intensity normalization completes\n"
     ]
    },
    {
     "name": "stderr",
     "output_type": "stream",
     "text": [
      "\r",
      " 89%|████████▊ | 62/70 [00:17<00:02,  3.63it/s]"
     ]
    },
    {
     "name": "stdout",
     "output_type": "stream",
     "text": [
      "intensity normalization: using min-max normalization with absolute intensity upper bound 40000\n",
      "intensity normalization completes\n"
     ]
    },
    {
     "name": "stderr",
     "output_type": "stream",
     "text": [
      "\r",
      " 90%|█████████ | 63/70 [00:17<00:01,  3.64it/s]"
     ]
    },
    {
     "name": "stdout",
     "output_type": "stream",
     "text": [
      "intensity normalization: using min-max normalization with absolute intensity upper bound 40000\n",
      "intensity normalization completes\n"
     ]
    },
    {
     "name": "stderr",
     "output_type": "stream",
     "text": [
      "\r",
      " 91%|█████████▏| 64/70 [00:17<00:01,  3.64it/s]"
     ]
    },
    {
     "name": "stdout",
     "output_type": "stream",
     "text": [
      "intensity normalization: using min-max normalization with absolute intensity upper bound 40000\n",
      "intensity normalization completes\n"
     ]
    },
    {
     "name": "stderr",
     "output_type": "stream",
     "text": [
      "\r",
      " 93%|█████████▎| 65/70 [00:17<00:01,  3.64it/s]"
     ]
    },
    {
     "name": "stdout",
     "output_type": "stream",
     "text": [
      "intensity normalization: using min-max normalization with absolute intensity upper bound 40000\n",
      "intensity normalization completes\n"
     ]
    },
    {
     "name": "stderr",
     "output_type": "stream",
     "text": [
      "\r",
      " 94%|█████████▍| 66/70 [00:18<00:01,  3.63it/s]"
     ]
    },
    {
     "name": "stdout",
     "output_type": "stream",
     "text": [
      "intensity normalization: using min-max normalization with absolute intensity upper bound 40000\n",
      "intensity normalization completes\n"
     ]
    },
    {
     "name": "stderr",
     "output_type": "stream",
     "text": [
      "\r",
      " 96%|█████████▌| 67/70 [00:18<00:00,  3.63it/s]"
     ]
    },
    {
     "name": "stdout",
     "output_type": "stream",
     "text": [
      "intensity normalization: using min-max normalization with absolute intensity upper bound 40000\n",
      "intensity normalization completes\n"
     ]
    },
    {
     "name": "stderr",
     "output_type": "stream",
     "text": [
      "\r",
      " 97%|█████████▋| 68/70 [00:18<00:00,  3.63it/s]"
     ]
    },
    {
     "name": "stdout",
     "output_type": "stream",
     "text": [
      "intensity normalization: using min-max normalization with absolute intensity upper bound 40000\n",
      "intensity normalization completes\n"
     ]
    },
    {
     "name": "stderr",
     "output_type": "stream",
     "text": [
      "\r",
      " 99%|█████████▊| 69/70 [00:18<00:00,  3.62it/s]"
     ]
    },
    {
     "name": "stdout",
     "output_type": "stream",
     "text": [
      "intensity normalization: using min-max normalization with absolute intensity upper bound 40000\n",
      "intensity normalization completes\n"
     ]
    },
    {
     "name": "stderr",
     "output_type": "stream",
     "text": [
      "100%|██████████| 70/70 [00:19<00:00,  3.64it/s]\n",
      "  0%|          | 0/70 [00:00<?, ?it/s]<string>:6: RuntimeWarning: Converting input from bool to <class 'numpy.uint8'> for compatibility.\n",
      "100%|██████████| 70/70 [03:30<00:00,  3.01s/it]\n"
     ]
    }
   ],
   "source": [
    "track = cell_segment(image)\n",
    "track.img_norm_smooth()\n",
    "track.MO_threshold_Time()\n"
   ]
  },
  {
   "cell_type": "markdown",
   "metadata": {},
   "source": [
    "## Quantify Nucleus Geometry (e.g. Volume) and Protein binding over time\n",
    "<br /> \n",
    "**Cell_attribute class has two parts. The first part is to 3D smooth the image stack that needs to be quantified for protein binding. The second part is to make a table that store all information (e.g. Volume, Protein binding).**"
   ]
  },
  {
   "cell_type": "code",
   "execution_count": 41,
   "metadata": {},
   "outputs": [],
   "source": [
    "# Initiate the cell attribute class\n",
    "\n",
    "class cell_attribute:\n",
    "    def __init__ (self, segmented_image_seq, intensity_image_stack, smooth_sigma = 1.0):\n",
    "        self.labeled_stack = segmented_image_seq\n",
    "        self.positions_table = None\n",
    "        self.intensity_image_stack_raw = intensity_image_stack\n",
    "        self.intensity_image_stack = np.zeros(intensity_image_stack.shape)\n",
    "        self.labeled_stack_modify = self.labeled_stack.copy()\n",
    "        self.smooth_sigma = smooth_sigma\n",
    "        self.mid_slice_stack = np.zeros(intensity_image_stack.shape)\n",
    "    # Function to 3D gaussian smooth intesnity image stack\n",
    "    def intensity_stack_smooth (self):\n",
    "        for t in tqdm(range(self.intensity_image_stack.shape[0])):\n",
    "          img = self.intensity_image_stack_raw[t].copy()\n",
    "          self.intensity_image_stack[t] = image_smoothing_gaussian_3d(img, sigma=self.smooth_sigma)\n",
    "            \n",
    "    # function to create pandas table of cell attributes without tracking info\n",
    "    def create_table_regions(self):\n",
    "\n",
    "        positions = []\n",
    "\n",
    "        for n in tqdm(range(0,self.labeled_stack.shape[0])):\n",
    "            labeled_slice = self.labeled_stack[n]\n",
    "    \n",
    "            for region in measure.regionprops(labeled_slice):\n",
    "                position = []\n",
    "\n",
    "                z_pos = region.centroid[0]\n",
    "                y_row = region.centroid[1]\n",
    "                x_col = region.centroid[2]\n",
    "\n",
    "                volume = region.area * (0.19*0.19*1)\n",
    "\n",
    "                nucleus_image = labeled_slice == region.label\n",
    "                mid_z = get_middle_frame_area(nucleus_image)\n",
    "                \n",
    "                mid_nucleus_image = nucleus_image[mid_z,:,:]\n",
    "                \n",
    "                segmented_image_shell= np.logical_xor(mid_nucleus_image,erosion(mid_nucleus_image, selem=disk(6)))\n",
    "                 \n",
    "                \n",
    "                label = region.label\n",
    "                intensity_single = self.intensity_image_stack[n]\n",
    "                intensity_image = intensity_single[mid_z]\n",
    "                intensity_median = np.median(intensity_image[segmented_image_shell==True])\n",
    "\n",
    "                intensity_background = np.median(self.intensity_image_stack[n][int(mid_z),int(y_row),int(x_col)])\n",
    "\n",
    "                intensity_median_ratio = intensity_median / intensity_background\n",
    "\n",
    "                position.append(x_col)\n",
    "                position.append(y_row)\n",
    "                position.append(z_pos)\n",
    "                position.append(int(n))\n",
    "                position.append(label)\n",
    "\n",
    "\n",
    "                position.append(volume)\n",
    "                #position.append(surface_area_actual)\n",
    "                position.append(intensity_median_ratio)\n",
    "\n",
    "                positions.append(position)\n",
    "                \n",
    "                self.mid_slice_stack[n,mid_z,:,:] += segmented_image_shell\n",
    "                self.mid_slice_stack[n,mid_z,int(y_row),int(x_col)] = 1\n",
    "                \n",
    "        self.positions_table  = DataFrame(positions, columns = ['x','y','z',\"frame\",'label','volume', 'median intensity ratio'])\n",
    "\n",
    "    \n",
    "\n",
    "    "
   ]
  },
  {
   "cell_type": "markdown",
   "metadata": {},
   "source": [
    "## Store attributes in table"
   ]
  },
  {
   "cell_type": "code",
   "execution_count": 42,
   "metadata": {},
   "outputs": [
    {
     "name": "stderr",
     "output_type": "stream",
     "text": [
      "\n",
      "  0%|          | 0/70 [00:00<?, ?it/s]\u001b[A\n",
      "  1%|▏         | 1/70 [00:00<00:17,  3.93it/s]\u001b[A\n",
      "  3%|▎         | 2/70 [00:00<00:16,  4.02it/s]\u001b[A\n",
      "  4%|▍         | 3/70 [00:00<00:16,  4.11it/s]\u001b[A\n",
      "  6%|▌         | 4/70 [00:00<00:15,  4.15it/s]\u001b[A\n",
      "  7%|▋         | 5/70 [00:01<00:15,  4.21it/s]\u001b[A\n",
      "  9%|▊         | 6/70 [00:01<00:15,  4.23it/s]\u001b[A\n",
      " 10%|█         | 7/70 [00:01<00:14,  4.29it/s]\u001b[A\n",
      " 11%|█▏        | 8/70 [00:01<00:14,  4.29it/s]\u001b[A\n",
      " 13%|█▎        | 9/70 [00:02<00:14,  4.31it/s]\u001b[A\n",
      " 14%|█▍        | 10/70 [00:02<00:14,  4.27it/s]\u001b[A\n",
      " 16%|█▌        | 11/70 [00:02<00:13,  4.29it/s]\u001b[A\n",
      " 17%|█▋        | 12/70 [00:02<00:13,  4.27it/s]\u001b[A\n",
      " 19%|█▊        | 13/70 [00:03<00:13,  4.14it/s]\u001b[A\n",
      " 20%|██        | 14/70 [00:03<00:13,  4.21it/s]\u001b[A\n",
      " 21%|██▏       | 15/70 [00:03<00:12,  4.28it/s]\u001b[A\n",
      " 23%|██▎       | 16/70 [00:03<00:12,  4.23it/s]\u001b[A\n",
      " 24%|██▍       | 17/70 [00:03<00:12,  4.26it/s]\u001b[A\n",
      " 26%|██▌       | 18/70 [00:04<00:12,  4.29it/s]\u001b[A\n",
      " 27%|██▋       | 19/70 [00:04<00:11,  4.30it/s]\u001b[A\n",
      " 29%|██▊       | 20/70 [00:04<00:11,  4.31it/s]\u001b[A\n",
      " 30%|███       | 21/70 [00:04<00:11,  4.34it/s]\u001b[A\n",
      " 31%|███▏      | 22/70 [00:05<00:11,  4.31it/s]\u001b[A\n",
      " 33%|███▎      | 23/70 [00:05<00:10,  4.35it/s]\u001b[A\n",
      " 34%|███▍      | 24/70 [00:05<00:10,  4.33it/s]\u001b[A\n",
      " 36%|███▌      | 25/70 [00:05<00:10,  4.36it/s]\u001b[A\n",
      " 37%|███▋      | 26/70 [00:06<00:10,  4.30it/s]\u001b[A\n",
      " 39%|███▊      | 27/70 [00:06<00:09,  4.33it/s]\u001b[A\n",
      " 40%|████      | 28/70 [00:06<00:09,  4.33it/s]\u001b[A\n",
      " 41%|████▏     | 29/70 [00:06<00:09,  4.34it/s]\u001b[A\n",
      " 43%|████▎     | 30/70 [00:06<00:09,  4.33it/s]\u001b[A\n",
      " 44%|████▍     | 31/70 [00:07<00:09,  4.18it/s]\u001b[A\n",
      " 46%|████▌     | 32/70 [00:07<00:09,  3.93it/s]\u001b[A\n",
      " 47%|████▋     | 33/70 [00:07<00:09,  4.00it/s]\u001b[A\n",
      " 49%|████▊     | 34/70 [00:08<00:08,  4.04it/s]\u001b[A\n",
      " 50%|█████     | 35/70 [00:08<00:09,  3.85it/s]\u001b[A\n",
      " 51%|█████▏    | 36/70 [00:08<00:08,  3.84it/s]\u001b[A\n",
      " 53%|█████▎    | 37/70 [00:08<00:09,  3.48it/s]\u001b[A\n",
      " 54%|█████▍    | 38/70 [00:09<00:09,  3.48it/s]\u001b[A\n",
      " 56%|█████▌    | 39/70 [00:09<00:08,  3.64it/s]\u001b[A\n",
      " 57%|█████▋    | 40/70 [00:09<00:08,  3.51it/s]\u001b[A\n",
      " 59%|█████▊    | 41/70 [00:10<00:08,  3.55it/s]\u001b[A\n",
      " 60%|██████    | 42/70 [00:10<00:07,  3.74it/s]\u001b[A\n",
      " 61%|██████▏   | 43/70 [00:10<00:06,  3.91it/s]\u001b[A\n",
      " 63%|██████▎   | 44/70 [00:10<00:06,  4.03it/s]\u001b[A\n",
      " 64%|██████▍   | 45/70 [00:10<00:06,  4.12it/s]\u001b[A\n",
      " 66%|██████▌   | 46/70 [00:11<00:05,  4.17it/s]\u001b[A\n",
      " 67%|██████▋   | 47/70 [00:11<00:05,  4.22it/s]\u001b[A\n",
      " 69%|██████▊   | 48/70 [00:11<00:05,  4.27it/s]\u001b[A\n",
      " 70%|███████   | 49/70 [00:11<00:04,  4.32it/s]\u001b[A\n",
      " 71%|███████▏  | 50/70 [00:12<00:04,  4.33it/s]\u001b[A\n",
      " 73%|███████▎  | 51/70 [00:12<00:04,  4.38it/s]\u001b[A\n",
      " 74%|███████▍  | 52/70 [00:12<00:04,  4.35it/s]\u001b[A\n",
      " 76%|███████▌  | 53/70 [00:12<00:03,  4.39it/s]\u001b[A\n",
      " 77%|███████▋  | 54/70 [00:13<00:03,  4.38it/s]\u001b[A\n",
      " 79%|███████▊  | 55/70 [00:13<00:03,  4.40it/s]\u001b[A\n",
      " 80%|████████  | 56/70 [00:13<00:03,  4.38it/s]\u001b[A\n",
      " 81%|████████▏ | 57/70 [00:13<00:02,  4.40it/s]\u001b[A\n",
      " 83%|████████▎ | 58/70 [00:13<00:02,  4.39it/s]\u001b[A\n",
      " 84%|████████▍ | 59/70 [00:14<00:02,  4.40it/s]\u001b[A\n",
      " 86%|████████▌ | 60/70 [00:14<00:02,  4.26it/s]\u001b[A\n",
      " 87%|████████▋ | 61/70 [00:14<00:02,  4.26it/s]\u001b[A\n",
      " 89%|████████▊ | 62/70 [00:14<00:01,  4.28it/s]\u001b[A\n",
      " 90%|█████████ | 63/70 [00:15<00:01,  4.31it/s]\u001b[A\n",
      " 91%|█████████▏| 64/70 [00:15<00:01,  4.32it/s]\u001b[A\n",
      " 93%|█████████▎| 65/70 [00:15<00:01,  4.36it/s]\u001b[A\n",
      " 94%|█████████▍| 66/70 [00:15<00:00,  4.35it/s]\u001b[A\n",
      " 96%|█████████▌| 67/70 [00:16<00:00,  4.39it/s]\u001b[A\n",
      " 97%|█████████▋| 68/70 [00:16<00:00,  4.36it/s]\u001b[A\n",
      " 99%|█████████▊| 69/70 [00:16<00:00,  4.38it/s]\u001b[A\n",
      "100%|██████████| 70/70 [00:16<00:00,  4.19it/s]\u001b[A\n",
      "\n",
      "  0%|          | 0/70 [00:00<?, ?it/s]\u001b[A\n",
      "  1%|▏         | 1/70 [00:00<00:08,  8.19it/s]\u001b[A\n",
      "  3%|▎         | 2/70 [00:00<00:08,  8.04it/s]\u001b[A\n",
      "  4%|▍         | 3/70 [00:00<00:08,  8.08it/s]\u001b[A\n",
      "  6%|▌         | 4/70 [00:00<00:08,  8.08it/s]\u001b[A\n",
      "  7%|▋         | 5/70 [00:00<00:08,  8.10it/s]\u001b[A\n",
      "  9%|▊         | 6/70 [00:00<00:07,  8.10it/s]\u001b[A\n",
      " 10%|█         | 7/70 [00:00<00:07,  8.07it/s]\u001b[A\n",
      " 11%|█▏        | 8/70 [00:00<00:07,  8.04it/s]\u001b[A\n",
      " 13%|█▎        | 9/70 [00:01<00:07,  8.00it/s]\u001b[A\n",
      " 14%|█▍        | 10/70 [00:01<00:07,  8.04it/s]\u001b[A\n",
      " 16%|█▌        | 11/70 [00:01<00:07,  7.76it/s]\u001b[A\n",
      " 17%|█▋        | 12/70 [00:01<00:07,  7.70it/s]\u001b[A\n",
      " 19%|█▊        | 13/70 [00:01<00:07,  7.55it/s]\u001b[A\n",
      " 20%|██        | 14/70 [00:01<00:07,  7.35it/s]\u001b[A\n",
      " 21%|██▏       | 15/70 [00:01<00:07,  7.33it/s]\u001b[A\n",
      " 23%|██▎       | 16/70 [00:02<00:07,  7.30it/s]\u001b[A\n",
      " 24%|██▍       | 17/70 [00:02<00:07,  7.35it/s]\u001b[A\n",
      " 26%|██▌       | 18/70 [00:02<00:07,  7.34it/s]\u001b[A\n",
      " 27%|██▋       | 19/70 [00:02<00:07,  7.21it/s]\u001b[A\n",
      " 29%|██▊       | 20/70 [00:02<00:06,  7.32it/s]\u001b[A\n",
      " 30%|███       | 21/70 [00:02<00:06,  7.38it/s]\u001b[A\n",
      " 31%|███▏      | 22/70 [00:02<00:06,  7.37it/s]\u001b[A\n",
      " 33%|███▎      | 23/70 [00:03<00:06,  7.38it/s]\u001b[A\n",
      " 34%|███▍      | 24/70 [00:03<00:06,  7.42it/s]\u001b[A\n",
      " 36%|███▌      | 25/70 [00:03<00:06,  7.48it/s]\u001b[A\n",
      " 37%|███▋      | 26/70 [00:03<00:05,  7.55it/s]\u001b[A\n",
      " 39%|███▊      | 27/70 [00:03<00:05,  7.55it/s]\u001b[A\n",
      " 40%|████      | 28/70 [00:03<00:05,  7.46it/s]\u001b[A\n",
      " 41%|████▏     | 29/70 [00:03<00:05,  7.48it/s]\u001b[A\n",
      " 43%|████▎     | 30/70 [00:03<00:05,  7.56it/s]\u001b[A\n",
      " 44%|████▍     | 31/70 [00:04<00:05,  7.54it/s]\u001b[A\n",
      " 46%|████▌     | 32/70 [00:04<00:05,  7.50it/s]\u001b[A\n",
      " 47%|████▋     | 33/70 [00:04<00:04,  7.49it/s]\u001b[A\n",
      " 49%|████▊     | 34/70 [00:04<00:04,  7.47it/s]\u001b[A\n",
      " 50%|█████     | 35/70 [00:04<00:04,  7.46it/s]\u001b[A\n",
      " 51%|█████▏    | 36/70 [00:04<00:04,  7.41it/s]\u001b[A\n",
      " 53%|█████▎    | 37/70 [00:04<00:04,  7.46it/s]\u001b[A\n",
      " 54%|█████▍    | 38/70 [00:05<00:04,  7.48it/s]\u001b[A\n",
      " 56%|█████▌    | 39/70 [00:05<00:04,  7.48it/s]\u001b[A\n",
      " 57%|█████▋    | 40/70 [00:05<00:04,  7.28it/s]\u001b[A\n",
      " 59%|█████▊    | 41/70 [00:05<00:03,  7.36it/s]\u001b[A\n",
      " 60%|██████    | 42/70 [00:05<00:03,  7.45it/s]\u001b[A\n",
      " 61%|██████▏   | 43/70 [00:05<00:03,  7.48it/s]\u001b[A\n",
      " 63%|██████▎   | 44/70 [00:05<00:03,  7.55it/s]\u001b[A\n",
      " 64%|██████▍   | 45/70 [00:05<00:03,  7.54it/s]\u001b[A\n",
      " 66%|██████▌   | 46/70 [00:06<00:03,  7.59it/s]\u001b[A\n",
      " 67%|██████▋   | 47/70 [00:06<00:03,  7.60it/s]\u001b[A\n",
      " 69%|██████▊   | 48/70 [00:06<00:02,  7.59it/s]\u001b[A\n",
      " 70%|███████   | 49/70 [00:06<00:02,  7.54it/s]\u001b[A\n",
      " 71%|███████▏  | 50/70 [00:06<00:02,  7.60it/s]\u001b[A\n",
      " 73%|███████▎  | 51/70 [00:06<00:02,  7.68it/s]\u001b[A\n",
      " 74%|███████▍  | 52/70 [00:06<00:02,  7.75it/s]\u001b[A\n",
      " 76%|███████▌  | 53/70 [00:07<00:02,  7.71it/s]\u001b[A\n",
      " 77%|███████▋  | 54/70 [00:07<00:02,  7.74it/s]\u001b[A\n",
      " 79%|███████▊  | 55/70 [00:07<00:01,  7.78it/s]\u001b[A\n",
      " 80%|████████  | 56/70 [00:07<00:01,  7.81it/s]\u001b[A\n",
      " 81%|████████▏ | 57/70 [00:07<00:01,  7.86it/s]\u001b[A\n",
      " 83%|████████▎ | 58/70 [00:07<00:01,  7.89it/s]\u001b[A\n",
      " 84%|████████▍ | 59/70 [00:07<00:01,  7.93it/s]\u001b[A\n",
      " 86%|████████▌ | 60/70 [00:07<00:01,  7.90it/s]\u001b[A\n",
      " 87%|████████▋ | 61/70 [00:08<00:01,  7.91it/s]\u001b[A\n",
      " 89%|████████▊ | 62/70 [00:08<00:01,  7.92it/s]\u001b[A\n",
      " 90%|█████████ | 63/70 [00:08<00:00,  7.95it/s]\u001b[A\n",
      " 91%|█████████▏| 64/70 [00:08<00:00,  7.98it/s]\u001b[A\n",
      " 93%|█████████▎| 65/70 [00:08<00:00,  7.99it/s]\u001b[A\n",
      " 94%|█████████▍| 66/70 [00:08<00:00,  8.00it/s]\u001b[A\n",
      " 96%|█████████▌| 67/70 [00:08<00:00,  7.96it/s]\u001b[A\n",
      " 97%|█████████▋| 68/70 [00:08<00:00,  7.99it/s]\u001b[A\n",
      " 99%|█████████▊| 69/70 [00:09<00:00,  8.02it/s]\u001b[A\n",
      "100%|██████████| 70/70 [00:09<00:00,  7.66it/s]\u001b[A\n"
     ]
    }
   ],
   "source": [
    "Segment_tracker = cell_attribute(track.segmented_object_image,image)\n",
    "Segment_tracker.intensity_stack_smooth()\n",
    "Segment_tracker.create_table_regions()"
   ]
  },
  {
   "cell_type": "markdown",
   "metadata": {},
   "source": [
    "## Look at the table\n",
    "<br />\n",
    "\n",
    "**x: x coordinate of centroid**\n",
    "<br />\n",
    "\n",
    "**y: y coordinate of centroid**\n",
    "<br />\n",
    "\n",
    "**z: z coordinate of centroid**\n",
    "<br />\n",
    "\n",
    "**frame: frame number in the time lapse**\n",
    "<br />\n",
    "\n",
    "**label: object ID generated by segmentation (It is not tracking ID)**\n",
    "<br />\n",
    "\n",
    "**volume: object volume in um^3**\n",
    "<br />\n",
    "\n",
    "**median intensity ratio: The intensity of object(cell) rim / intensity of centroid**"
   ]
  },
  {
   "cell_type": "code",
   "execution_count": 43,
   "metadata": {},
   "outputs": [
    {
     "data": {
      "text/html": [
       "<div>\n",
       "<style scoped>\n",
       "    .dataframe tbody tr th:only-of-type {\n",
       "        vertical-align: middle;\n",
       "    }\n",
       "\n",
       "    .dataframe tbody tr th {\n",
       "        vertical-align: top;\n",
       "    }\n",
       "\n",
       "    .dataframe thead th {\n",
       "        text-align: right;\n",
       "    }\n",
       "</style>\n",
       "<table border=\"1\" class=\"dataframe\">\n",
       "  <thead>\n",
       "    <tr style=\"text-align: right;\">\n",
       "      <th></th>\n",
       "      <th>x</th>\n",
       "      <th>y</th>\n",
       "      <th>z</th>\n",
       "      <th>frame</th>\n",
       "      <th>label</th>\n",
       "      <th>volume</th>\n",
       "      <th>median intensity ratio</th>\n",
       "    </tr>\n",
       "  </thead>\n",
       "  <tbody>\n",
       "    <tr>\n",
       "      <th>0</th>\n",
       "      <td>379.089774</td>\n",
       "      <td>121.899418</td>\n",
       "      <td>5.609540</td>\n",
       "      <td>0</td>\n",
       "      <td>1</td>\n",
       "      <td>1462.9164</td>\n",
       "      <td>0.718883</td>\n",
       "    </tr>\n",
       "    <tr>\n",
       "      <th>1</th>\n",
       "      <td>105.795461</td>\n",
       "      <td>207.723246</td>\n",
       "      <td>4.979431</td>\n",
       "      <td>0</td>\n",
       "      <td>2</td>\n",
       "      <td>1851.6051</td>\n",
       "      <td>0.680766</td>\n",
       "    </tr>\n",
       "    <tr>\n",
       "      <th>2</th>\n",
       "      <td>331.823756</td>\n",
       "      <td>348.458167</td>\n",
       "      <td>4.875696</td>\n",
       "      <td>0</td>\n",
       "      <td>3</td>\n",
       "      <td>1705.6167</td>\n",
       "      <td>0.700150</td>\n",
       "    </tr>\n",
       "    <tr>\n",
       "      <th>3</th>\n",
       "      <td>377.016353</td>\n",
       "      <td>121.728225</td>\n",
       "      <td>5.676584</td>\n",
       "      <td>1</td>\n",
       "      <td>1</td>\n",
       "      <td>1454.7578</td>\n",
       "      <td>0.685264</td>\n",
       "    </tr>\n",
       "    <tr>\n",
       "      <th>4</th>\n",
       "      <td>103.522622</td>\n",
       "      <td>207.206420</td>\n",
       "      <td>5.096436</td>\n",
       "      <td>1</td>\n",
       "      <td>2</td>\n",
       "      <td>1796.0833</td>\n",
       "      <td>0.666096</td>\n",
       "    </tr>\n",
       "  </tbody>\n",
       "</table>\n",
       "</div>"
      ],
      "text/plain": [
       "            x           y         z  frame  label     volume  \\\n",
       "0  379.089774  121.899418  5.609540      0      1  1462.9164   \n",
       "1  105.795461  207.723246  4.979431      0      2  1851.6051   \n",
       "2  331.823756  348.458167  4.875696      0      3  1705.6167   \n",
       "3  377.016353  121.728225  5.676584      1      1  1454.7578   \n",
       "4  103.522622  207.206420  5.096436      1      2  1796.0833   \n",
       "\n",
       "   median intensity ratio  \n",
       "0                0.718883  \n",
       "1                0.680766  \n",
       "2                0.700150  \n",
       "3                0.685264  \n",
       "4                0.666096  "
      ]
     },
     "execution_count": 43,
     "metadata": {},
     "output_type": "execute_result"
    }
   ],
   "source": [
    "# Have a look at the table\n",
    "table= Segment_tracker.positions_table\n",
    "\n",
    "\n",
    "table.head()"
   ]
  },
  {
   "cell_type": "markdown",
   "metadata": {},
   "source": [
    "## Linking Frames in Time-Lapse Movie\n",
    "\n",
    "* Use Trackpy to track and link consecutive frames. Remove tracks that does not meet minimum frames\n",
    "* Add another **particle** column to record tracking ID"
   ]
  },
  {
   "cell_type": "code",
   "execution_count": 44,
   "metadata": {},
   "outputs": [
    {
     "name": "stdout",
     "output_type": "stream",
     "text": [
      "Frame 69: 3 trajectories present.\n"
     ]
    },
    {
     "data": {
      "text/html": [
       "<div>\n",
       "<style scoped>\n",
       "    .dataframe tbody tr th:only-of-type {\n",
       "        vertical-align: middle;\n",
       "    }\n",
       "\n",
       "    .dataframe tbody tr th {\n",
       "        vertical-align: top;\n",
       "    }\n",
       "\n",
       "    .dataframe thead th {\n",
       "        text-align: right;\n",
       "    }\n",
       "</style>\n",
       "<table border=\"1\" class=\"dataframe\">\n",
       "  <thead>\n",
       "    <tr style=\"text-align: right;\">\n",
       "      <th></th>\n",
       "      <th>x</th>\n",
       "      <th>y</th>\n",
       "      <th>z</th>\n",
       "      <th>frame</th>\n",
       "      <th>label</th>\n",
       "      <th>volume</th>\n",
       "      <th>median intensity ratio</th>\n",
       "      <th>particle</th>\n",
       "    </tr>\n",
       "    <tr>\n",
       "      <th>frame</th>\n",
       "      <th></th>\n",
       "      <th></th>\n",
       "      <th></th>\n",
       "      <th></th>\n",
       "      <th></th>\n",
       "      <th></th>\n",
       "      <th></th>\n",
       "      <th></th>\n",
       "    </tr>\n",
       "  </thead>\n",
       "  <tbody>\n",
       "    <tr>\n",
       "      <th>0</th>\n",
       "      <td>379.089774</td>\n",
       "      <td>121.899418</td>\n",
       "      <td>5.609540</td>\n",
       "      <td>0</td>\n",
       "      <td>1</td>\n",
       "      <td>1462.9164</td>\n",
       "      <td>0.718883</td>\n",
       "      <td>0</td>\n",
       "    </tr>\n",
       "    <tr>\n",
       "      <th>0</th>\n",
       "      <td>105.795461</td>\n",
       "      <td>207.723246</td>\n",
       "      <td>4.979431</td>\n",
       "      <td>0</td>\n",
       "      <td>2</td>\n",
       "      <td>1851.6051</td>\n",
       "      <td>0.680766</td>\n",
       "      <td>1</td>\n",
       "    </tr>\n",
       "    <tr>\n",
       "      <th>0</th>\n",
       "      <td>331.823756</td>\n",
       "      <td>348.458167</td>\n",
       "      <td>4.875696</td>\n",
       "      <td>0</td>\n",
       "      <td>3</td>\n",
       "      <td>1705.6167</td>\n",
       "      <td>0.700150</td>\n",
       "      <td>2</td>\n",
       "    </tr>\n",
       "    <tr>\n",
       "      <th>1</th>\n",
       "      <td>377.016353</td>\n",
       "      <td>121.728225</td>\n",
       "      <td>5.676584</td>\n",
       "      <td>1</td>\n",
       "      <td>1</td>\n",
       "      <td>1454.7578</td>\n",
       "      <td>0.685264</td>\n",
       "      <td>0</td>\n",
       "    </tr>\n",
       "    <tr>\n",
       "      <th>1</th>\n",
       "      <td>103.522622</td>\n",
       "      <td>207.206420</td>\n",
       "      <td>5.096436</td>\n",
       "      <td>1</td>\n",
       "      <td>2</td>\n",
       "      <td>1796.0833</td>\n",
       "      <td>0.666096</td>\n",
       "      <td>1</td>\n",
       "    </tr>\n",
       "    <tr>\n",
       "      <th>...</th>\n",
       "      <td>...</td>\n",
       "      <td>...</td>\n",
       "      <td>...</td>\n",
       "      <td>...</td>\n",
       "      <td>...</td>\n",
       "      <td>...</td>\n",
       "      <td>...</td>\n",
       "      <td>...</td>\n",
       "    </tr>\n",
       "    <tr>\n",
       "      <th>68</th>\n",
       "      <td>381.496053</td>\n",
       "      <td>111.073216</td>\n",
       "      <td>6.667411</td>\n",
       "      <td>68</td>\n",
       "      <td>1</td>\n",
       "      <td>1939.2198</td>\n",
       "      <td>0.842952</td>\n",
       "      <td>0</td>\n",
       "    </tr>\n",
       "    <tr>\n",
       "      <th>68</th>\n",
       "      <td>335.415548</td>\n",
       "      <td>338.109849</td>\n",
       "      <td>5.719946</td>\n",
       "      <td>68</td>\n",
       "      <td>3</td>\n",
       "      <td>1887.6690</td>\n",
       "      <td>0.785297</td>\n",
       "      <td>2</td>\n",
       "    </tr>\n",
       "    <tr>\n",
       "      <th>69</th>\n",
       "      <td>123.813599</td>\n",
       "      <td>221.447506</td>\n",
       "      <td>5.964184</td>\n",
       "      <td>69</td>\n",
       "      <td>2</td>\n",
       "      <td>1996.7271</td>\n",
       "      <td>0.700473</td>\n",
       "      <td>1</td>\n",
       "    </tr>\n",
       "    <tr>\n",
       "      <th>69</th>\n",
       "      <td>381.691198</td>\n",
       "      <td>111.053721</td>\n",
       "      <td>6.620920</td>\n",
       "      <td>69</td>\n",
       "      <td>1</td>\n",
       "      <td>1916.5129</td>\n",
       "      <td>0.845571</td>\n",
       "      <td>0</td>\n",
       "    </tr>\n",
       "    <tr>\n",
       "      <th>69</th>\n",
       "      <td>335.984461</td>\n",
       "      <td>338.941865</td>\n",
       "      <td>5.711957</td>\n",
       "      <td>69</td>\n",
       "      <td>3</td>\n",
       "      <td>1839.9448</td>\n",
       "      <td>0.758624</td>\n",
       "      <td>2</td>\n",
       "    </tr>\n",
       "  </tbody>\n",
       "</table>\n",
       "<p>210 rows × 8 columns</p>\n",
       "</div>"
      ],
      "text/plain": [
       "                x           y         z  frame  label     volume  \\\n",
       "frame                                                              \n",
       "0      379.089774  121.899418  5.609540      0      1  1462.9164   \n",
       "0      105.795461  207.723246  4.979431      0      2  1851.6051   \n",
       "0      331.823756  348.458167  4.875696      0      3  1705.6167   \n",
       "1      377.016353  121.728225  5.676584      1      1  1454.7578   \n",
       "1      103.522622  207.206420  5.096436      1      2  1796.0833   \n",
       "...           ...         ...       ...    ...    ...        ...   \n",
       "68     381.496053  111.073216  6.667411     68      1  1939.2198   \n",
       "68     335.415548  338.109849  5.719946     68      3  1887.6690   \n",
       "69     123.813599  221.447506  5.964184     69      2  1996.7271   \n",
       "69     381.691198  111.053721  6.620920     69      1  1916.5129   \n",
       "69     335.984461  338.941865  5.711957     69      3  1839.9448   \n",
       "\n",
       "       median intensity ratio  particle  \n",
       "frame                                    \n",
       "0                    0.718883         0  \n",
       "0                    0.680766         1  \n",
       "0                    0.700150         2  \n",
       "1                    0.685264         0  \n",
       "1                    0.666096         1  \n",
       "...                       ...       ...  \n",
       "68                   0.842952         0  \n",
       "68                   0.785297         2  \n",
       "69                   0.700473         1  \n",
       "69                   0.845571         0  \n",
       "69                   0.758624         2  \n",
       "\n",
       "[210 rows x 8 columns]"
      ]
     },
     "execution_count": 44,
     "metadata": {},
     "output_type": "execute_result"
    }
   ],
   "source": [
    "# Link cells between frames\n",
    "Labelled_table = tp.link_df(Segment_tracker.positions_table, 15,adaptive_stop=1, adaptive_step=2, memory=3,pos_columns=['x', 'y', 'z'])\n",
    "\n",
    "#Filter out tracks with low number of frames\n",
    "Labelled_table = tp.filter_stubs(Labelled_table, 40)\n",
    "\n",
    "Labelled_table"
   ]
  },
  {
   "cell_type": "markdown",
   "metadata": {},
   "source": [
    "### Normalize protein binding intensity ratio and add the \"normalized intensity ratio\" column to table"
   ]
  },
  {
   "cell_type": "code",
   "execution_count": 64,
   "metadata": {},
   "outputs": [
    {
     "name": "stderr",
     "output_type": "stream",
     "text": [
      "/Users/zhouyangshen/opt/anaconda3/envs/GUV_Analysis/lib/python3.7/site-packages/ipykernel_launcher.py:6: SettingWithCopyWarning: \n",
      "A value is trying to be set on a copy of a slice from a DataFrame\n",
      "\n",
      "See the caveats in the documentation: https://pandas.pydata.org/pandas-docs/stable/user_guide/indexing.html#returning-a-view-versus-a-copy\n",
      "  \n"
     ]
    },
    {
     "data": {
      "text/html": [
       "<div>\n",
       "<style scoped>\n",
       "    .dataframe tbody tr th:only-of-type {\n",
       "        vertical-align: middle;\n",
       "    }\n",
       "\n",
       "    .dataframe tbody tr th {\n",
       "        vertical-align: top;\n",
       "    }\n",
       "\n",
       "    .dataframe thead th {\n",
       "        text-align: right;\n",
       "    }\n",
       "</style>\n",
       "<table border=\"1\" class=\"dataframe\">\n",
       "  <thead>\n",
       "    <tr style=\"text-align: right;\">\n",
       "      <th></th>\n",
       "      <th>x</th>\n",
       "      <th>y</th>\n",
       "      <th>z</th>\n",
       "      <th>frame</th>\n",
       "      <th>label</th>\n",
       "      <th>volume</th>\n",
       "      <th>median intensity ratio</th>\n",
       "      <th>particle</th>\n",
       "      <th>normalized intensity ratio</th>\n",
       "    </tr>\n",
       "    <tr>\n",
       "      <th>frame</th>\n",
       "      <th></th>\n",
       "      <th></th>\n",
       "      <th></th>\n",
       "      <th></th>\n",
       "      <th></th>\n",
       "      <th></th>\n",
       "      <th></th>\n",
       "      <th></th>\n",
       "      <th></th>\n",
       "    </tr>\n",
       "  </thead>\n",
       "  <tbody>\n",
       "    <tr>\n",
       "      <th>0</th>\n",
       "      <td>379.089774</td>\n",
       "      <td>121.899418</td>\n",
       "      <td>5.609540</td>\n",
       "      <td>0</td>\n",
       "      <td>1</td>\n",
       "      <td>1462.9164</td>\n",
       "      <td>0.718883</td>\n",
       "      <td>0</td>\n",
       "      <td>1.000000</td>\n",
       "    </tr>\n",
       "    <tr>\n",
       "      <th>0</th>\n",
       "      <td>105.795461</td>\n",
       "      <td>207.723246</td>\n",
       "      <td>4.979431</td>\n",
       "      <td>0</td>\n",
       "      <td>2</td>\n",
       "      <td>1851.6051</td>\n",
       "      <td>0.680766</td>\n",
       "      <td>1</td>\n",
       "      <td>1.000000</td>\n",
       "    </tr>\n",
       "    <tr>\n",
       "      <th>0</th>\n",
       "      <td>331.823756</td>\n",
       "      <td>348.458167</td>\n",
       "      <td>4.875696</td>\n",
       "      <td>0</td>\n",
       "      <td>3</td>\n",
       "      <td>1705.6167</td>\n",
       "      <td>0.700150</td>\n",
       "      <td>2</td>\n",
       "      <td>1.000000</td>\n",
       "    </tr>\n",
       "    <tr>\n",
       "      <th>1</th>\n",
       "      <td>377.016353</td>\n",
       "      <td>121.728225</td>\n",
       "      <td>5.676584</td>\n",
       "      <td>1</td>\n",
       "      <td>1</td>\n",
       "      <td>1454.7578</td>\n",
       "      <td>0.685264</td>\n",
       "      <td>0</td>\n",
       "      <td>0.953235</td>\n",
       "    </tr>\n",
       "    <tr>\n",
       "      <th>1</th>\n",
       "      <td>103.522622</td>\n",
       "      <td>207.206420</td>\n",
       "      <td>5.096436</td>\n",
       "      <td>1</td>\n",
       "      <td>2</td>\n",
       "      <td>1796.0833</td>\n",
       "      <td>0.666096</td>\n",
       "      <td>1</td>\n",
       "      <td>0.978451</td>\n",
       "    </tr>\n",
       "    <tr>\n",
       "      <th>...</th>\n",
       "      <td>...</td>\n",
       "      <td>...</td>\n",
       "      <td>...</td>\n",
       "      <td>...</td>\n",
       "      <td>...</td>\n",
       "      <td>...</td>\n",
       "      <td>...</td>\n",
       "      <td>...</td>\n",
       "      <td>...</td>\n",
       "    </tr>\n",
       "    <tr>\n",
       "      <th>68</th>\n",
       "      <td>381.496053</td>\n",
       "      <td>111.073216</td>\n",
       "      <td>6.667411</td>\n",
       "      <td>68</td>\n",
       "      <td>1</td>\n",
       "      <td>1939.2198</td>\n",
       "      <td>0.842952</td>\n",
       "      <td>0</td>\n",
       "      <td>1.172586</td>\n",
       "    </tr>\n",
       "    <tr>\n",
       "      <th>68</th>\n",
       "      <td>335.415548</td>\n",
       "      <td>338.109849</td>\n",
       "      <td>5.719946</td>\n",
       "      <td>68</td>\n",
       "      <td>3</td>\n",
       "      <td>1887.6690</td>\n",
       "      <td>0.785297</td>\n",
       "      <td>2</td>\n",
       "      <td>1.121613</td>\n",
       "    </tr>\n",
       "    <tr>\n",
       "      <th>69</th>\n",
       "      <td>123.813599</td>\n",
       "      <td>221.447506</td>\n",
       "      <td>5.964184</td>\n",
       "      <td>69</td>\n",
       "      <td>2</td>\n",
       "      <td>1996.7271</td>\n",
       "      <td>0.700473</td>\n",
       "      <td>1</td>\n",
       "      <td>1.028948</td>\n",
       "    </tr>\n",
       "    <tr>\n",
       "      <th>69</th>\n",
       "      <td>381.691198</td>\n",
       "      <td>111.053721</td>\n",
       "      <td>6.620920</td>\n",
       "      <td>69</td>\n",
       "      <td>1</td>\n",
       "      <td>1916.5129</td>\n",
       "      <td>0.845571</td>\n",
       "      <td>0</td>\n",
       "      <td>1.176228</td>\n",
       "    </tr>\n",
       "    <tr>\n",
       "      <th>69</th>\n",
       "      <td>335.984461</td>\n",
       "      <td>338.941865</td>\n",
       "      <td>5.711957</td>\n",
       "      <td>69</td>\n",
       "      <td>3</td>\n",
       "      <td>1839.9448</td>\n",
       "      <td>0.758624</td>\n",
       "      <td>2</td>\n",
       "      <td>1.083517</td>\n",
       "    </tr>\n",
       "  </tbody>\n",
       "</table>\n",
       "<p>210 rows × 9 columns</p>\n",
       "</div>"
      ],
      "text/plain": [
       "                x           y         z  frame  label     volume  \\\n",
       "frame                                                              \n",
       "0      379.089774  121.899418  5.609540      0      1  1462.9164   \n",
       "0      105.795461  207.723246  4.979431      0      2  1851.6051   \n",
       "0      331.823756  348.458167  4.875696      0      3  1705.6167   \n",
       "1      377.016353  121.728225  5.676584      1      1  1454.7578   \n",
       "1      103.522622  207.206420  5.096436      1      2  1796.0833   \n",
       "...           ...         ...       ...    ...    ...        ...   \n",
       "68     381.496053  111.073216  6.667411     68      1  1939.2198   \n",
       "68     335.415548  338.109849  5.719946     68      3  1887.6690   \n",
       "69     123.813599  221.447506  5.964184     69      2  1996.7271   \n",
       "69     381.691198  111.053721  6.620920     69      1  1916.5129   \n",
       "69     335.984461  338.941865  5.711957     69      3  1839.9448   \n",
       "\n",
       "       median intensity ratio  particle  normalized intensity ratio  \n",
       "frame                                                                \n",
       "0                    0.718883         0                    1.000000  \n",
       "0                    0.680766         1                    1.000000  \n",
       "0                    0.700150         2                    1.000000  \n",
       "1                    0.685264         0                    0.953235  \n",
       "1                    0.666096         1                    0.978451  \n",
       "...                       ...       ...                         ...  \n",
       "68                   0.842952         0                    1.172586  \n",
       "68                   0.785297         2                    1.121613  \n",
       "69                   0.700473         1                    1.028948  \n",
       "69                   0.845571         0                    1.176228  \n",
       "69                   0.758624         2                    1.083517  \n",
       "\n",
       "[210 rows x 9 columns]"
      ]
     },
     "execution_count": 64,
     "metadata": {},
     "output_type": "execute_result"
    }
   ],
   "source": [
    "Labelled_table['normalized intensity ratio'] = Labelled_table['median intensity ratio']\n",
    "\n",
    "all_labels = Labelled_table.particle.unique()\n",
    "\n",
    "for label in all_labels:\n",
    "   Labelled_table['normalized intensity ratio'][Labelled_table.particle ==label] = Labelled_table['normalized intensity ratio'][Labelled_table.particle ==label]/Labelled_table['median intensity ratio'][Labelled_table.particle ==label][0]\n",
    "\n",
    "\n",
    "\n"
   ]
  },
  {
   "cell_type": "markdown",
   "metadata": {},
   "source": [
    "### Make a function to modify segmentation masks and color the object based on ID. The object that does not meet minimum frames will be deleted"
   ]
  },
  {
   "cell_type": "code",
   "execution_count": 45,
   "metadata": {},
   "outputs": [],
   "source": [
    "#function to modify segmented images based on label tracks ID. Remove objects that only exist in a few frames \n",
    "def segmented_image_final_processing (tables, labelled_image):\n",
    "    new_labelled_image = np.zeros(labelled_image.shape)\n",
    "    for t in tqdm(range(0,tables.frame.max()+1)):\n",
    "        \n",
    "       Position_table_t = tables[tables.frame == t]\n",
    "       original_label = Position_table_t.label.to_list() \n",
    "       original_label = [x*1000 for x in original_label]\n",
    "       new_label = Position_table_t.particle.to_list() \n",
    "       new_label = [x+1 for x in new_label]\n",
    "       \n",
    "       label_convert = list(zip(original_label, new_label))\n",
    "            \n",
    "       labelled_image_t = labelled_image[t].copy() * 1000\n",
    "       \n",
    "       for num in np.unique(labelled_image_t):\n",
    "          if num != 0 and num not in original_label:\n",
    "             labelled_image_t[labelled_image_t == num] = 0\n",
    "       \n",
    "       for element in label_convert:\n",
    "          original = element [0]\n",
    "          new = element [1] \n",
    "          labelled_image_t[labelled_image_t == original] = new\n",
    "\n",
    "       new_labelled_image[t] = labelled_image_t\n",
    "            \n",
    "    return new_labelled_image\n",
    "                \n",
    "            \n",
    "\n",
    "            \n"
   ]
  },
  {
   "cell_type": "code",
   "execution_count": 46,
   "metadata": {},
   "outputs": [
    {
     "name": "stderr",
     "output_type": "stream",
     "text": [
      "\n",
      "  0%|          | 0/70 [00:00<?, ?it/s]\u001b[A\n",
      "  3%|▎         | 2/70 [00:00<00:06, 10.86it/s]\u001b[A\n",
      "  6%|▌         | 4/70 [00:00<00:06, 10.96it/s]\u001b[A\n",
      "  9%|▊         | 6/70 [00:00<00:06, 10.43it/s]\u001b[A\n",
      " 11%|█▏        | 8/70 [00:00<00:05, 10.54it/s]\u001b[A\n",
      " 14%|█▍        | 10/70 [00:00<00:05, 10.43it/s]\u001b[A\n",
      " 16%|█▌        | 11/70 [00:01<00:05, 10.22it/s]\u001b[A\n",
      " 19%|█▊        | 13/70 [00:01<00:05, 10.24it/s]\u001b[A\n",
      " 20%|██        | 14/70 [00:01<00:05,  9.87it/s]\u001b[A\n",
      " 23%|██▎       | 16/70 [00:01<00:05,  9.84it/s]\u001b[A\n",
      " 24%|██▍       | 17/70 [00:01<00:05,  9.57it/s]\u001b[A\n",
      " 26%|██▌       | 18/70 [00:01<00:05,  9.37it/s]\u001b[A\n",
      " 27%|██▋       | 19/70 [00:01<00:05,  9.53it/s]\u001b[A\n",
      " 29%|██▊       | 20/70 [00:02<00:05,  9.34it/s]\u001b[A\n",
      " 30%|███       | 21/70 [00:02<00:05,  9.50it/s]\u001b[A\n",
      " 33%|███▎      | 23/70 [00:02<00:04,  9.75it/s]\u001b[A\n",
      " 36%|███▌      | 25/70 [00:02<00:04,  9.95it/s]\u001b[A\n",
      " 39%|███▊      | 27/70 [00:02<00:04, 10.09it/s]\u001b[A\n",
      " 41%|████▏     | 29/70 [00:02<00:04, 10.03it/s]\u001b[A\n",
      " 44%|████▍     | 31/70 [00:03<00:03, 10.12it/s]\u001b[A\n",
      " 47%|████▋     | 33/70 [00:03<00:03, 10.24it/s]\u001b[A\n",
      " 50%|█████     | 35/70 [00:03<00:03, 10.27it/s]\u001b[A\n",
      " 53%|█████▎    | 37/70 [00:03<00:03,  9.98it/s]\u001b[A\n",
      " 56%|█████▌    | 39/70 [00:03<00:03,  9.86it/s]\u001b[A\n",
      " 59%|█████▊    | 41/70 [00:04<00:02, 10.03it/s]\u001b[A\n",
      " 61%|██████▏   | 43/70 [00:04<00:02,  9.96it/s]\u001b[A\n",
      " 64%|██████▍   | 45/70 [00:04<00:02, 10.11it/s]\u001b[A\n",
      " 67%|██████▋   | 47/70 [00:04<00:02, 10.23it/s]\u001b[A\n",
      " 70%|███████   | 49/70 [00:04<00:02,  9.93it/s]\u001b[A\n",
      " 73%|███████▎  | 51/70 [00:05<00:01, 10.11it/s]\u001b[A\n",
      " 76%|███████▌  | 53/70 [00:05<00:01, 10.14it/s]\u001b[A\n",
      " 79%|███████▊  | 55/70 [00:05<00:01, 10.17it/s]\u001b[A\n",
      " 81%|████████▏ | 57/70 [00:05<00:01, 10.10it/s]\u001b[A\n",
      " 84%|████████▍ | 59/70 [00:05<00:01, 10.22it/s]\u001b[A\n",
      " 87%|████████▋ | 61/70 [00:06<00:00, 10.24it/s]\u001b[A\n",
      " 90%|█████████ | 63/70 [00:06<00:00, 10.20it/s]\u001b[A\n",
      " 93%|█████████▎| 65/70 [00:06<00:00,  8.32it/s]\u001b[A\n",
      " 94%|█████████▍| 66/70 [00:06<00:00,  5.78it/s]\u001b[A\n",
      " 96%|█████████▌| 67/70 [00:07<00:00,  6.17it/s]\u001b[A\n",
      " 97%|█████████▋| 68/70 [00:07<00:00,  6.96it/s]\u001b[A\n",
      "100%|██████████| 70/70 [00:07<00:00,  9.57it/s]\u001b[A\n"
     ]
    }
   ],
   "source": [
    "# Change images based on new labels\n",
    "\n",
    "labelled_segmented_image = segmented_image_final_processing(Labelled_table, track.segmented_object_image)"
   ]
  },
  {
   "cell_type": "markdown",
   "metadata": {},
   "source": [
    "## Visualize in Napari"
   ]
  },
  {
   "cell_type": "code",
   "execution_count": 47,
   "metadata": {},
   "outputs": [
    {
     "data": {
      "text/plain": [
       "<Image layer 'Watershed Seeds' at 0x5175ed350>"
      ]
     },
     "execution_count": 47,
     "metadata": {},
     "output_type": "execute_result"
    }
   ],
   "source": [
    "# Visualize Final Result\n",
    "viewer = napari.Viewer()\n",
    "viewer.add_image(image, scale = [1,5,1,1])\n",
    "viewer.add_image(Segment_tracker.mid_slice_stack,name='Mid Plane', scale = [1,5,1,1])\n",
    "viewer.add_image(track.segmented_object_image,name='Segmented Object', scale = [1,5,1,1])\n",
    "viewer.add_labels(labelled_segmented_image, name='Segmentation with ID', scale=[1,5,1,1])\n",
    "viewer.add_image(track.watershed_map_list,name='Distance Map', scale = [1,5,1,1])\n",
    "viewer.add_image(track.seed_map_list,name='Watershed Seeds', scale = [1,5,1,1])"
   ]
  },
  {
   "cell_type": "markdown",
   "metadata": {},
   "source": [
    "## Plot Data (e.g. Volume, Protein binding)\n"
   ]
  },
  {
   "cell_type": "code",
   "execution_count": 69,
   "metadata": {},
   "outputs": [
    {
     "data": {
      "image/png": "[encoded data removed]",
      "text/plain": [
       "<Figure size 1152x864 with 1 Axes>"
      ]
     },
     "metadata": {
      "needs_background": "light"
     },
     "output_type": "display_data"
    }
   ],
   "source": [
    "# Plot volume for all objects (cells)\n",
    "all_labels = Labelled_table.particle.unique()\n",
    "\n",
    "for label in all_labels:\n",
    "   df_subset = Labelled_table[Labelled_table.particle == label]\n",
    "   plt.plot(df_subset[\"frame\"],df_subset[\"volume\"])"
   ]
  },
  {
   "cell_type": "code",
   "execution_count": 70,
   "metadata": {},
   "outputs": [
    {
     "data": {
      "image/png": "[encoded data removed]",
      "text/plain": [
       "<Figure size 1152x864 with 1 Axes>"
      ]
     },
     "metadata": {
      "needs_background": "light"
     },
     "output_type": "display_data"
    }
   ],
   "source": [
    "# Plot normalized intensity for all objects (cells)\n",
    "all_labels = Labelled_table.particle.unique()\n",
    "\n",
    "for label in all_labels:\n",
    "   df_subset = Labelled_table[Labelled_table.particle == label]\n",
    "   plt.plot(df_subset[\"frame\"],df_subset[\"normalized intensity ratio\"])"
   ]
  },
  {
   "cell_type": "markdown",
   "metadata": {},
   "source": [
    "## Save data and table"
   ]
  },
  {
   "cell_type": "code",
   "execution_count": 71,
   "metadata": {},
   "outputs": [],
   "source": [
    "# Save data to hdf5\n",
    "File_save_names = '/Users/zhouyangshen/Desktop/Python_Nucleus_Segmentation/75_hypotonic_shock'\n",
    "seg_save_name='{File_Name}_segmentation_result.hdf5'.format(File_Name = File_save_names)\n",
    "\n",
    "with h5py.File(seg_save_name, \"w\") as f:\n",
    "      f.create_dataset('Mid Plane', data = Segment_tracker.mid_slice_stack, compression = 'gzip')\n",
    "      f.create_dataset('Segmented Object', data = track.segmented_object_image, compression = 'gzip')\n",
    "      f.create_dataset('Segmentation with ID', data = labelled_segmented_image, compression = 'gzip')\n",
    "      f.create_dataset('Distance Map', data = track.watershed_map_list, compression = 'gzip')\n",
    "      f.create_dataset('Seed Map', data = track.seed_map_list, compression = 'gzip')\n",
    "      f.create_dataset('Normalized and Smooth Image', data = track.structure_img_smooth, compression = 'gzip')\n"
   ]
  },
  {
   "cell_type": "code",
   "execution_count": 73,
   "metadata": {},
   "outputs": [],
   "source": [
    "# Save table to csv\n",
    "table_save_name = '{File_Name}_statistic_result.csv'.format(File_Name = File_save_names)\n",
    "\n",
    "Labelled_table.to_csv(table_save_name,index=False)"
   ]
  },
  {
   "cell_type": "code",
   "execution_count": null,
   "metadata": {},
   "outputs": [],
   "source": []
  }
 ],
 "metadata": {
  "kernelspec": {
   "display_name": "Python 3",
   "language": "python",
   "name": "python3"
  },
  "language_info": {
   "codemirror_mode": {
    "name": "ipython",
    "version": 3
   },
   "file_extension": ".py",
   "mimetype": "text/x-python",
   "name": "python",
   "nbconvert_exporter": "python",
   "pygments_lexer": "ipython3",
   "version": "3.7.6"
  }
 },
 "nbformat": 4,
 "nbformat_minor": 2
}
