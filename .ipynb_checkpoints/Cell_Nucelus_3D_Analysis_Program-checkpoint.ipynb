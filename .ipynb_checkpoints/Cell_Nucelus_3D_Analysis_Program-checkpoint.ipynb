{
 "cells": [
  {
   "cell_type": "markdown",
   "metadata": {},
   "source": [
    "# Analysis Work Flow of Nucleus Segmentation, Tracking and Visualization \n",
    "\n",
    "This notebook contains the workflow for tracking Cell nucelus protein binding intensities and geometries (e.g. Volume) in time-lapse movie.\n",
    "\n",
    "Key steps of the workflows:\n",
    "\n",
    "* Auto-Contrast intensity normalization\n",
    "* 3D Gaussian smoothing \n",
    "* Masked-object Thresholding\n",
    "* Watershed to remove merged objects\n",
    "* Using trackpy to link frames\n",
    "* Visualize segmentation and tracking results\n",
    "* Plotting volume and protein binding changes as a function of time \n",
    "* Export data and statistics table\n",
    "\n"
   ]
  },
  {
   "cell_type": "markdown",
   "metadata": {},
   "source": [
    "## Loading Required Libraries"
   ]
  },
  {
   "cell_type": "code",
   "execution_count": 1,
   "metadata": {},
   "outputs": [],
   "source": [
    "import numpy as np\n",
    "\n",
    "import matplotlib.pyplot as plt\n",
    "plt.rcParams[\"figure.figsize\"] = [16, 12]\n",
    "\n",
    "from aicssegmentation.core.pre_processing_utils import intensity_normalization, image_smoothing_gaussian_3d\n",
    "from skimage.morphology import remove_small_objects, binary_closing, ball, disk, erosion, dilation   # function for post-processing (size filter)\n",
    "from aicssegmentation.core.MO_threshold import MO\n",
    "from aicssegmentation.core.utils import get_middle_frame, get_3dseed_from_mid_frame\n",
    "from skimage import transform, measure\n",
    "import h5py\n",
    "from tqdm import tqdm\n",
    "from pandas import DataFrame\n",
    "import warnings\n",
    "import h5py\n",
    "from skimage.segmentation import watershed\n",
    "from skimage.morphology import dilation, ball\n",
    "from skimage.measure import label\n",
    "from scipy.ndimage import distance_transform_edt\n",
    "from aicssegmentation.core.utils import hole_filling\n",
    "import trackpy as tp"
   ]
  },
  {
   "cell_type": "markdown",
   "metadata": {},
   "source": [
    "## Loading Data, loading Visualization Platform and make some background functions"
   ]
  },
  {
   "cell_type": "code",
   "execution_count": 2,
   "metadata": {},
   "outputs": [],
   "source": [
    "FILE_NAME = \"/Users/zhouyangshen/Desktop/Cell-Nucleus-3D-Time-Lapse-Analysis/Sample Data/5_min_75_%_shock_1_uM_ionomycin_003_1.hdf5\"\n",
    "f = h5py.File(FILE_NAME, 'r')\n",
    "\n",
    "image = f['561 Channel'][:]\n"
   ]
  },
  {
   "cell_type": "code",
   "execution_count": 3,
   "metadata": {},
   "outputs": [],
   "source": [
    "import napari\n",
    "%gui qt"
   ]
  },
  {
   "cell_type": "code",
   "execution_count": 4,
   "metadata": {},
   "outputs": [],
   "source": [
    "#Make a mask to clear border\n",
    "from skimage.segmentation import clear_border\n",
    "mask = np.ones(image[0].shape)\n",
    "\n",
    "for n in range(mask.shape[0]):\n",
    "   im_slice = mask[n,:,:]\n",
    "   im_slice[0,:] = 0\n",
    "   im_slice[:,0] = 0\n",
    "   im_slice[:,-1] = 0\n",
    "   im_slice[-1,:] = 0\n",
    "\n",
    "mask = mask.astype(np.bool)\n"
   ]
  },
  {
   "cell_type": "code",
   "execution_count": 5,
   "metadata": {},
   "outputs": [],
   "source": [
    "# Make a function to get middle frame based on segmented area\n",
    "def get_middle_frame_area(labelled_image_stack):\n",
    "    max_area = 0\n",
    "    max_n = 0\n",
    "    for z in range(labelled_image_stack.shape[0]):\n",
    "       img_slice = labelled_image_stack[z,:,:]\n",
    "       area = np.count_nonzero(img_slice)\n",
    "       \n",
    "       if area >= max_area:\n",
    "          max_area = area\n",
    "          max_n = z\n",
    "    \n",
    "    return max_n"
   ]
  },
  {
   "cell_type": "markdown",
   "metadata": {},
   "source": [
    "## Make the 3D Cell Segmentation Pipeline \n",
    "\n",
    "This segmentation pipeline has two parts. The first part is image normalization and smoothing. The second part is image segmentation\n",
    "\n",
    "* First Part: We first apply intensity normalization and 3D Gaussian Smooth on one time point. Then we propagate to all time points. Both functions are developed by Allen Institute Segmenter. <br /> <br /> \n",
    "Link: https://github.com/AllenInstitute/aics-segmentation\n",
    "<br /> <br /> \n",
    "* Second Part: We first apply Mask-Object thresholding (MO) and Watershed on one time point. In brief, MO algorithm firstly applies low threshoding (e.g. median thresholding) to roughly mask out each object. Then apply high thresholding (e.g. Ostu thresholding) within each individual object. This way it can account intensity varaiation from cell to cell. Watershed here is to seperate falsely merged object. Both algorithms are developed by Allen Segmenter. Then we propogate to all time points. \n",
    "\n"
   ]
  },
  {
   "cell_type": "code",
   "execution_count": 20,
   "metadata": {},
   "outputs": [],
   "source": [
    "# Initiate the cell segmentation class\n",
    "from skimage import filters\n",
    "class cell_segment:\n",
    "    def __init__ (self, Time_lapse_image, intensity_scaling_param = [40000], gaussian_smoothing_sigma = 1 ):\n",
    "        self.image = Time_lapse_image.copy()\n",
    "        self.Time_pts = Time_lapse_image.shape[0]\n",
    "        \n",
    "        self.normalization_param = intensity_scaling_param\n",
    "        self.smooth_param = gaussian_smoothing_sigma\n",
    "        \n",
    "        self.structure_img_smooth = np.zeros(self.image.shape, dtype = np.float64)\n",
    "        self.structure_img = np.zeros(self.image.shape, dtype = np.float64)\n",
    "        self.segmented_object_image = np.zeros(self.image.shape, dtype = np.uint8)\n",
    "        \n",
    "        self.watershed_map_list = np.zeros(self.image.shape, dtype = np.uint8)\n",
    "        self.seed_map_list = np.zeros(self.image.shape, dtype = np.uint8)\n",
    "        \n",
    "        \n",
    "    # define a function to apply normalization and smooth on Time lapse images\n",
    "    def img_norm_smooth (self):\n",
    "        for t in tqdm(range(20)):\n",
    "            img = self.image[t].copy()\n",
    "            self.structure_img[t] = intensity_normalization(img, scaling_param=self.normalization_param)\n",
    "            self.structure_img_smooth[t] = image_smoothing_gaussian_3d(self.structure_img[t], sigma=self.smooth_param)\n",
    "        \n",
    "   # define a function to apply Masked Object thresholding followed by seed-based watershed to each time point\n",
    "    def MO_threshold_Time (self):\n",
    "        for t in tqdm(range(20)):\n",
    "            bw, object_for_debug = MO(self.structure_img_smooth[t], global_thresh_method='ave', object_minArea=10000, return_object=True,extra_criteria=True)\n",
    "            bw = hole_filling(bw, 1, 5000, fill_2d=True)\n",
    "            mid_z = get_middle_frame(bw, method='intensity')\n",
    "            bw_mid_z = bw[mid_z,:,:]\n",
    "            seed = get_3dseed_from_mid_frame(bw_mid_z, bw.shape, mid_z, hole_min=3000,bg_seed=False)\n",
    "            watershed_map = -1*distance_transform_edt(bw)\n",
    "            seg = watershed(watershed_map, markers=label(seed), mask=bw, watershed_line=True)\n",
    "            seg = clear_border(seg, mask = mask)\n",
    "            \n",
    "            seg = remove_small_objects(seg>0, min_size=10000, connectivity=1, in_place=False)\n",
    "            seg = hole_filling(seg, 1, 40000, fill_2d=True)\n",
    "            #final_seg = segmentation_quick_view(seg)\n",
    "            \n",
    "            final_seg = label(seg)\n",
    "            \n",
    "            self.segmented_object_image[t] = final_seg\n",
    "            self.watershed_map_list[t] = watershed_map\n",
    "            self.seed_map_list[t] = seed\n",
    "        "
   ]
  },
  {
   "cell_type": "markdown",
   "metadata": {},
   "source": [
    "## 3D Cell Segmentation in Timelapse"
   ]
  },
  {
   "cell_type": "code",
   "execution_count": 21,
   "metadata": {},
   "outputs": [
    {
     "name": "stderr",
     "output_type": "stream",
     "text": [
      "100%|██████████| 20/20 [00:05<00:00,  3.71it/s]\n",
      "  0%|          | 0/20 [00:00<?, ?it/s]<string>:6: RuntimeWarning: Converting input from bool to <class 'numpy.uint8'> for compatibility.\n",
      "100%|██████████| 20/20 [01:39<00:00,  4.99s/it]\n"
     ]
    }
   ],
   "source": [
    "track = cell_segment(image)\n",
    "track.img_norm_smooth()\n",
    "track.MO_threshold_Time()\n"
   ]
  },
  {
   "cell_type": "code",
   "execution_count": 22,
   "metadata": {},
   "outputs": [],
   "source": [
    "viewer = napari.Viewer()\n",
    "viewer.add_image(image, scale = [1,5,1,1])\n",
    "viewer.add_image(track.segmented_object_image>0 ,name='Segmented Object', scale = [1,5,1,1])\n",
    "peaks = np.nonzero(track.seed_map_list)\n",
    "viewer.add_points(np.array(peaks).T, name='peaks', size=5, face_color='red',scale=[1,5,1,1]);"
   ]
  },
  {
   "cell_type": "markdown",
   "metadata": {},
   "source": [
    "## Quantify Nucleus Geometry (e.g. Volume) and Protein binding over time\n",
    "<br /> \n",
    "**Cell_attribute class has two parts. The first part is to 3D smooth the image stack that needs to be quantified for protein binding. The second part is to make a table that store all information (e.g. Volume, Protein binding).**"
   ]
  },
  {
   "cell_type": "code",
   "execution_count": 8,
   "metadata": {},
   "outputs": [],
   "source": [
    "# Initiate the cell attribute class\n",
    "\n",
    "class cell_attribute:\n",
    "    def __init__ (self, segmented_image_seq, intensity_image_stack, smooth_sigma = 1.0):\n",
    "        self.labeled_stack = segmented_image_seq\n",
    "        self.positions_table = None\n",
    "        self.intensity_image_stack_raw = intensity_image_stack\n",
    "        self.intensity_image_stack = np.zeros(intensity_image_stack.shape)\n",
    "        self.labeled_stack_modify = self.labeled_stack.copy()\n",
    "        self.smooth_sigma = smooth_sigma\n",
    "        self.mid_slice_stack = np.zeros(intensity_image_stack.shape)\n",
    "    # Function to 3D gaussian smooth intesnity image stack\n",
    "    def intensity_stack_smooth (self):\n",
    "        for t in tqdm(range(self.intensity_image_stack.shape[0])):\n",
    "          img = self.intensity_image_stack_raw[t].copy()\n",
    "          self.intensity_image_stack[t] = image_smoothing_gaussian_3d(img, sigma=self.smooth_sigma)\n",
    "            \n",
    "    # function to create pandas table of cell attributes without tracking info\n",
    "    def create_table_regions(self):\n",
    "\n",
    "        positions = []\n",
    "\n",
    "        for n in tqdm(range(0,self.labeled_stack.shape[0])):\n",
    "            labeled_slice = self.labeled_stack[n]\n",
    "    \n",
    "            for region in measure.regionprops(labeled_slice):\n",
    "                position = []\n",
    "\n",
    "                z_pos = region.centroid[0]\n",
    "                y_row = region.centroid[1]\n",
    "                x_col = region.centroid[2]\n",
    "\n",
    "                volume = region.area * (0.19*0.19*1)\n",
    "\n",
    "                nucleus_image = labeled_slice == region.label\n",
    "                mid_z = get_middle_frame_area(nucleus_image)\n",
    "                \n",
    "                mid_nucleus_image = nucleus_image[mid_z,:,:]\n",
    "                \n",
    "                segmented_image_shell= np.logical_xor(mid_nucleus_image,erosion(mid_nucleus_image, selem=disk(6)))\n",
    "                 \n",
    "                \n",
    "                label = region.label\n",
    "                intensity_single = self.intensity_image_stack[n]\n",
    "                intensity_image = intensity_single[mid_z]\n",
    "                intensity_median = np.median(intensity_image[segmented_image_shell==True])\n",
    "\n",
    "                intensity_background = np.median(self.intensity_image_stack[n][int(mid_z),int(y_row),int(x_col)])\n",
    "\n",
    "                intensity_median_ratio = intensity_median / intensity_background\n",
    "\n",
    "                position.append(x_col)\n",
    "                position.append(y_row)\n",
    "                position.append(z_pos)\n",
    "                position.append(int(n))\n",
    "                position.append(label)\n",
    "\n",
    "\n",
    "                position.append(volume)\n",
    "                #position.append(surface_area_actual)\n",
    "                position.append(intensity_median_ratio)\n",
    "\n",
    "                positions.append(position)\n",
    "                \n",
    "                self.mid_slice_stack[n,mid_z,:,:] += segmented_image_shell\n",
    "                self.mid_slice_stack[n,mid_z,int(y_row),int(x_col)] = 1\n",
    "                \n",
    "        self.positions_table  = DataFrame(positions, columns = ['x','y','z',\"frame\",'label','volume', 'median intensity ratio'])\n",
    "\n",
    "    \n",
    "\n",
    "    "
   ]
  },
  {
   "cell_type": "markdown",
   "metadata": {},
   "source": [
    "## Store attributes in table"
   ]
  },
  {
   "cell_type": "code",
   "execution_count": 9,
   "metadata": {},
   "outputs": [
    {
     "name": "stderr",
     "output_type": "stream",
     "text": [
      "100%|██████████| 70/70 [00:15<00:00,  4.38it/s]\n",
      "100%|██████████| 70/70 [00:12<00:00,  5.60it/s]\n"
     ]
    }
   ],
   "source": [
    "Segment_tracker = cell_attribute(track.segmented_object_image,image)\n",
    "Segment_tracker.intensity_stack_smooth()\n",
    "Segment_tracker.create_table_regions()"
   ]
  },
  {
   "cell_type": "markdown",
   "metadata": {},
   "source": [
    "## Look at the table\n",
    "<br />\n",
    "\n",
    "**x: x coordinate of centroid**\n",
    "<br />\n",
    "\n",
    "**y: y coordinate of centroid**\n",
    "<br />\n",
    "\n",
    "**z: z coordinate of centroid**\n",
    "<br />\n",
    "\n",
    "**frame: frame number in the time lapse**\n",
    "<br />\n",
    "\n",
    "**label: object ID generated by segmentation (It is not tracking ID)**\n",
    "<br />\n",
    "\n",
    "**volume: object volume in um^3**\n",
    "<br />\n",
    "\n",
    "**median intensity ratio: The intensity of object(cell) rim / intensity of centroid**"
   ]
  },
  {
   "cell_type": "code",
   "execution_count": 10,
   "metadata": {},
   "outputs": [
    {
     "data": {
      "text/html": [
       "<div>\n",
       "<style scoped>\n",
       "    .dataframe tbody tr th:only-of-type {\n",
       "        vertical-align: middle;\n",
       "    }\n",
       "\n",
       "    .dataframe tbody tr th {\n",
       "        vertical-align: top;\n",
       "    }\n",
       "\n",
       "    .dataframe thead th {\n",
       "        text-align: right;\n",
       "    }\n",
       "</style>\n",
       "<table border=\"1\" class=\"dataframe\">\n",
       "  <thead>\n",
       "    <tr style=\"text-align: right;\">\n",
       "      <th></th>\n",
       "      <th>x</th>\n",
       "      <th>y</th>\n",
       "      <th>z</th>\n",
       "      <th>frame</th>\n",
       "      <th>label</th>\n",
       "      <th>volume</th>\n",
       "      <th>median intensity ratio</th>\n",
       "    </tr>\n",
       "  </thead>\n",
       "  <tbody>\n",
       "    <tr>\n",
       "      <th>0</th>\n",
       "      <td>73.021120</td>\n",
       "      <td>172.864527</td>\n",
       "      <td>4.246311</td>\n",
       "      <td>0</td>\n",
       "      <td>1</td>\n",
       "      <td>1088.8121</td>\n",
       "      <td>0.655643</td>\n",
       "    </tr>\n",
       "    <tr>\n",
       "      <th>1</th>\n",
       "      <td>388.491360</td>\n",
       "      <td>172.404229</td>\n",
       "      <td>6.758632</td>\n",
       "      <td>0</td>\n",
       "      <td>2</td>\n",
       "      <td>1130.2549</td>\n",
       "      <td>1.060917</td>\n",
       "    </tr>\n",
       "    <tr>\n",
       "      <th>2</th>\n",
       "      <td>234.431027</td>\n",
       "      <td>345.569077</td>\n",
       "      <td>4.589431</td>\n",
       "      <td>0</td>\n",
       "      <td>3</td>\n",
       "      <td>1734.5328</td>\n",
       "      <td>1.035077</td>\n",
       "    </tr>\n",
       "    <tr>\n",
       "      <th>3</th>\n",
       "      <td>346.672863</td>\n",
       "      <td>117.915563</td>\n",
       "      <td>8.242382</td>\n",
       "      <td>0</td>\n",
       "      <td>4</td>\n",
       "      <td>1701.1764</td>\n",
       "      <td>1.088809</td>\n",
       "    </tr>\n",
       "    <tr>\n",
       "      <th>4</th>\n",
       "      <td>75.895607</td>\n",
       "      <td>173.140965</td>\n",
       "      <td>4.227056</td>\n",
       "      <td>1</td>\n",
       "      <td>1</td>\n",
       "      <td>1098.6313</td>\n",
       "      <td>0.684644</td>\n",
       "    </tr>\n",
       "  </tbody>\n",
       "</table>\n",
       "</div>"
      ],
      "text/plain": [
       "            x           y         z  frame  label     volume  \\\n",
       "0   73.021120  172.864527  4.246311      0      1  1088.8121   \n",
       "1  388.491360  172.404229  6.758632      0      2  1130.2549   \n",
       "2  234.431027  345.569077  4.589431      0      3  1734.5328   \n",
       "3  346.672863  117.915563  8.242382      0      4  1701.1764   \n",
       "4   75.895607  173.140965  4.227056      1      1  1098.6313   \n",
       "\n",
       "   median intensity ratio  \n",
       "0                0.655643  \n",
       "1                1.060917  \n",
       "2                1.035077  \n",
       "3                1.088809  \n",
       "4                0.684644  "
      ]
     },
     "execution_count": 10,
     "metadata": {},
     "output_type": "execute_result"
    }
   ],
   "source": [
    "# Have a look at the table\n",
    "table= Segment_tracker.positions_table\n",
    "\n",
    "\n",
    "table.head()"
   ]
  },
  {
   "cell_type": "markdown",
   "metadata": {},
   "source": [
    "## Linking Frames in Time-Lapse Movie\n",
    "\n",
    "* Use Trackpy to track and link consecutive frames. Remove tracks that does not meet minimum frames\n",
    "* Add another **particle** column to record tracking ID"
   ]
  },
  {
   "cell_type": "code",
   "execution_count": 11,
   "metadata": {},
   "outputs": [
    {
     "name": "stdout",
     "output_type": "stream",
     "text": [
      "Frame 69: 3 trajectories present.\n"
     ]
    },
    {
     "data": {
      "text/html": [
       "<div>\n",
       "<style scoped>\n",
       "    .dataframe tbody tr th:only-of-type {\n",
       "        vertical-align: middle;\n",
       "    }\n",
       "\n",
       "    .dataframe tbody tr th {\n",
       "        vertical-align: top;\n",
       "    }\n",
       "\n",
       "    .dataframe thead th {\n",
       "        text-align: right;\n",
       "    }\n",
       "</style>\n",
       "<table border=\"1\" class=\"dataframe\">\n",
       "  <thead>\n",
       "    <tr style=\"text-align: right;\">\n",
       "      <th></th>\n",
       "      <th>x</th>\n",
       "      <th>y</th>\n",
       "      <th>z</th>\n",
       "      <th>frame</th>\n",
       "      <th>label</th>\n",
       "      <th>volume</th>\n",
       "      <th>median intensity ratio</th>\n",
       "      <th>particle</th>\n",
       "    </tr>\n",
       "    <tr>\n",
       "      <th>frame</th>\n",
       "      <th></th>\n",
       "      <th></th>\n",
       "      <th></th>\n",
       "      <th></th>\n",
       "      <th></th>\n",
       "      <th></th>\n",
       "      <th></th>\n",
       "      <th></th>\n",
       "    </tr>\n",
       "  </thead>\n",
       "  <tbody>\n",
       "    <tr>\n",
       "      <th>0</th>\n",
       "      <td>234.431027</td>\n",
       "      <td>345.569077</td>\n",
       "      <td>4.589431</td>\n",
       "      <td>0</td>\n",
       "      <td>3</td>\n",
       "      <td>1734.5328</td>\n",
       "      <td>1.035077</td>\n",
       "      <td>2</td>\n",
       "    </tr>\n",
       "    <tr>\n",
       "      <th>1</th>\n",
       "      <td>237.049039</td>\n",
       "      <td>345.557195</td>\n",
       "      <td>4.618561</td>\n",
       "      <td>1</td>\n",
       "      <td>3</td>\n",
       "      <td>1766.0120</td>\n",
       "      <td>0.824201</td>\n",
       "      <td>2</td>\n",
       "    </tr>\n",
       "    <tr>\n",
       "      <th>2</th>\n",
       "      <td>237.420488</td>\n",
       "      <td>345.009607</td>\n",
       "      <td>4.564718</td>\n",
       "      <td>2</td>\n",
       "      <td>3</td>\n",
       "      <td>1739.8034</td>\n",
       "      <td>1.035132</td>\n",
       "      <td>2</td>\n",
       "    </tr>\n",
       "    <tr>\n",
       "      <th>3</th>\n",
       "      <td>237.323760</td>\n",
       "      <td>344.871995</td>\n",
       "      <td>4.674924</td>\n",
       "      <td>3</td>\n",
       "      <td>3</td>\n",
       "      <td>1782.3653</td>\n",
       "      <td>0.835990</td>\n",
       "      <td>2</td>\n",
       "    </tr>\n",
       "    <tr>\n",
       "      <th>4</th>\n",
       "      <td>237.400093</td>\n",
       "      <td>344.484919</td>\n",
       "      <td>4.697053</td>\n",
       "      <td>4</td>\n",
       "      <td>3</td>\n",
       "      <td>1778.5026</td>\n",
       "      <td>0.841170</td>\n",
       "      <td>2</td>\n",
       "    </tr>\n",
       "    <tr>\n",
       "      <th>...</th>\n",
       "      <td>...</td>\n",
       "      <td>...</td>\n",
       "      <td>...</td>\n",
       "      <td>...</td>\n",
       "      <td>...</td>\n",
       "      <td>...</td>\n",
       "      <td>...</td>\n",
       "      <td>...</td>\n",
       "    </tr>\n",
       "    <tr>\n",
       "      <th>65</th>\n",
       "      <td>253.356689</td>\n",
       "      <td>357.909497</td>\n",
       "      <td>5.895586</td>\n",
       "      <td>65</td>\n",
       "      <td>3</td>\n",
       "      <td>2462.7059</td>\n",
       "      <td>0.823085</td>\n",
       "      <td>2</td>\n",
       "    </tr>\n",
       "    <tr>\n",
       "      <th>66</th>\n",
       "      <td>253.287111</td>\n",
       "      <td>358.157252</td>\n",
       "      <td>5.861572</td>\n",
       "      <td>66</td>\n",
       "      <td>3</td>\n",
       "      <td>2418.2668</td>\n",
       "      <td>0.862543</td>\n",
       "      <td>2</td>\n",
       "    </tr>\n",
       "    <tr>\n",
       "      <th>67</th>\n",
       "      <td>253.329881</td>\n",
       "      <td>358.247236</td>\n",
       "      <td>5.866152</td>\n",
       "      <td>67</td>\n",
       "      <td>3</td>\n",
       "      <td>2426.0283</td>\n",
       "      <td>0.910758</td>\n",
       "      <td>2</td>\n",
       "    </tr>\n",
       "    <tr>\n",
       "      <th>68</th>\n",
       "      <td>253.348269</td>\n",
       "      <td>358.722740</td>\n",
       "      <td>5.847073</td>\n",
       "      <td>68</td>\n",
       "      <td>3</td>\n",
       "      <td>2429.0607</td>\n",
       "      <td>0.858314</td>\n",
       "      <td>2</td>\n",
       "    </tr>\n",
       "    <tr>\n",
       "      <th>69</th>\n",
       "      <td>253.207392</td>\n",
       "      <td>358.990909</td>\n",
       "      <td>5.814263</td>\n",
       "      <td>69</td>\n",
       "      <td>3</td>\n",
       "      <td>2370.6148</td>\n",
       "      <td>0.851939</td>\n",
       "      <td>2</td>\n",
       "    </tr>\n",
       "  </tbody>\n",
       "</table>\n",
       "<p>70 rows × 8 columns</p>\n",
       "</div>"
      ],
      "text/plain": [
       "                x           y         z  frame  label     volume  \\\n",
       "frame                                                              \n",
       "0      234.431027  345.569077  4.589431      0      3  1734.5328   \n",
       "1      237.049039  345.557195  4.618561      1      3  1766.0120   \n",
       "2      237.420488  345.009607  4.564718      2      3  1739.8034   \n",
       "3      237.323760  344.871995  4.674924      3      3  1782.3653   \n",
       "4      237.400093  344.484919  4.697053      4      3  1778.5026   \n",
       "...           ...         ...       ...    ...    ...        ...   \n",
       "65     253.356689  357.909497  5.895586     65      3  2462.7059   \n",
       "66     253.287111  358.157252  5.861572     66      3  2418.2668   \n",
       "67     253.329881  358.247236  5.866152     67      3  2426.0283   \n",
       "68     253.348269  358.722740  5.847073     68      3  2429.0607   \n",
       "69     253.207392  358.990909  5.814263     69      3  2370.6148   \n",
       "\n",
       "       median intensity ratio  particle  \n",
       "frame                                    \n",
       "0                    1.035077         2  \n",
       "1                    0.824201         2  \n",
       "2                    1.035132         2  \n",
       "3                    0.835990         2  \n",
       "4                    0.841170         2  \n",
       "...                       ...       ...  \n",
       "65                   0.823085         2  \n",
       "66                   0.862543         2  \n",
       "67                   0.910758         2  \n",
       "68                   0.858314         2  \n",
       "69                   0.851939         2  \n",
       "\n",
       "[70 rows x 8 columns]"
      ]
     },
     "execution_count": 11,
     "metadata": {},
     "output_type": "execute_result"
    }
   ],
   "source": [
    "# Link cells between frames\n",
    "Labelled_table = tp.link_df(Segment_tracker.positions_table, 15,adaptive_stop=1, adaptive_step=2, memory=3,pos_columns=['x', 'y', 'z'])\n",
    "\n",
    "#Filter out tracks with low number of frames\n",
    "Labelled_table = tp.filter_stubs(Labelled_table, 60)\n",
    "\n",
    "Labelled_table"
   ]
  },
  {
   "cell_type": "markdown",
   "metadata": {},
   "source": [
    "### Normalize protein binding intensity ratio and add the \"normalized intensity ratio\" column to table"
   ]
  },
  {
   "cell_type": "code",
   "execution_count": 12,
   "metadata": {},
   "outputs": [
    {
     "name": "stderr",
     "output_type": "stream",
     "text": [
      "/Users/zhouyangshen/opt/anaconda3/envs/segmentation/lib/python3.7/site-packages/ipykernel_launcher.py:6: SettingWithCopyWarning: \n",
      "A value is trying to be set on a copy of a slice from a DataFrame\n",
      "\n",
      "See the caveats in the documentation: https://pandas.pydata.org/pandas-docs/stable/user_guide/indexing.html#returning-a-view-versus-a-copy\n",
      "  \n"
     ]
    }
   ],
   "source": [
    "Labelled_table['normalized intensity ratio'] = Labelled_table['median intensity ratio']\n",
    "\n",
    "all_labels = Labelled_table.particle.unique()\n",
    "\n",
    "for label in all_labels:\n",
    "   Labelled_table['normalized intensity ratio'][Labelled_table.particle ==label] = Labelled_table['normalized intensity ratio'][Labelled_table.particle ==label]/Labelled_table['median intensity ratio'][Labelled_table.particle ==label][0]\n",
    "\n",
    "\n",
    "\n"
   ]
  },
  {
   "cell_type": "markdown",
   "metadata": {},
   "source": [
    "### Make a function to modify segmentation masks and color the object based on ID. The object that does not meet minimum frames will be deleted"
   ]
  },
  {
   "cell_type": "code",
   "execution_count": 13,
   "metadata": {},
   "outputs": [],
   "source": [
    "#function to modify segmented images based on label tracks ID. Remove objects that only exist in a few frames \n",
    "def segmented_image_final_processing (tables, labelled_image):\n",
    "    new_labelled_image = np.zeros(labelled_image.shape)\n",
    "    for t in tqdm(range(0,tables.frame.max()+1)):\n",
    "        \n",
    "       Position_table_t = tables[tables.frame == t]\n",
    "       original_label = Position_table_t.label.to_list() \n",
    "       original_label = [x*1000 for x in original_label]\n",
    "       new_label = Position_table_t.particle.to_list() \n",
    "       new_label = [x+1 for x in new_label]\n",
    "       \n",
    "       label_convert = list(zip(original_label, new_label))\n",
    "            \n",
    "       labelled_image_t = labelled_image[t].copy() * 1000\n",
    "       \n",
    "       for num in np.unique(labelled_image_t):\n",
    "          if num != 0 and num not in original_label:\n",
    "             labelled_image_t[labelled_image_t == num] = 0\n",
    "       \n",
    "       for element in label_convert:\n",
    "          original = element [0]\n",
    "          new = element [1] \n",
    "          labelled_image_t[labelled_image_t == original] = new\n",
    "\n",
    "       new_labelled_image[t] = labelled_image_t\n",
    "            \n",
    "    return new_labelled_image\n",
    "                \n",
    "            \n",
    "\n",
    "            \n"
   ]
  },
  {
   "cell_type": "code",
   "execution_count": 14,
   "metadata": {},
   "outputs": [
    {
     "name": "stderr",
     "output_type": "stream",
     "text": [
      "100%|██████████| 70/70 [00:11<00:00,  5.91it/s]\n"
     ]
    }
   ],
   "source": [
    "# Change images based on new labels\n",
    "\n",
    "labelled_segmented_image = segmented_image_final_processing(Labelled_table, track.segmented_object_image)"
   ]
  },
  {
   "cell_type": "markdown",
   "metadata": {},
   "source": [
    "## Visualize in Napari"
   ]
  },
  {
   "cell_type": "code",
   "execution_count": null,
   "metadata": {},
   "outputs": [],
   "source": [
    "# Visualize Final Result\n",
    "viewer = napari.Viewer()\n",
    "viewer.add_image(image, scale = [1,5,1,1])\n",
    "viewer.add_image(Segment_tracker.mid_slice_stack,name='Mid Plane', scale = [1,5,1,1])\n",
    "viewer.add_image(track.segmented_object_image >0,name='Segmented Object', scale = [1,5,1,1])\n",
    "viewer.add_labels(labelled_segmented_image, name='Segmentation with ID', scale=[1,5,1,1])\n",
    "viewer.add_image(track.watershed_map_list,name='Distance Map', scale = [1,5,1,1])\n",
    "#peaks = track.seed_map_list[track.seed_map_list>0]\n",
    "#viewer.add_points(np.array(peaks).T, name='peaks', size=5, face_color='red');"
   ]
  },
  {
   "cell_type": "markdown",
   "metadata": {},
   "source": [
    "## Plot Data (e.g. Volume, Protein binding)\n"
   ]
  },
  {
   "cell_type": "code",
   "execution_count": 37,
   "metadata": {},
   "outputs": [
    {
     "data": {
      "image/png": "[encoded data removed]",
      "text/plain": [
       "<Figure size 1152x864 with 1 Axes>"
      ]
     },
     "metadata": {
      "needs_background": "light"
     },
     "output_type": "display_data"
    }
   ],
   "source": [
    "# Plot volume for all objects (cells)\n",
    "all_labels = Labelled_table.particle.unique()\n",
    "\n",
    "for label in all_labels:\n",
    "   df_subset = Labelled_table[Labelled_table.particle == label]\n",
    "   plt.plot(df_subset[\"frame\"],df_subset[\"volume\"])"
   ]
  },
  {
   "cell_type": "code",
   "execution_count": 38,
   "metadata": {},
   "outputs": [
    {
     "data": {
      "image/png": "[encoded data removed]",
      "text/plain": [
       "<Figure size 1152x864 with 1 Axes>"
      ]
     },
     "metadata": {
      "needs_background": "light"
     },
     "output_type": "display_data"
    }
   ],
   "source": [
    "# Plot normalized intensity for all objects (cells)\n",
    "all_labels = Labelled_table.particle.unique()\n",
    "\n",
    "for label in all_labels:\n",
    "   df_subset = Labelled_table[Labelled_table.particle == label]\n",
    "   plt.plot(df_subset[\"frame\"],df_subset[\"normalized intensity ratio\"])"
   ]
  },
  {
   "cell_type": "markdown",
   "metadata": {},
   "source": [
    "## Save data and table"
   ]
  },
  {
   "cell_type": "code",
   "execution_count": 71,
   "metadata": {},
   "outputs": [],
   "source": [
    "# Save data to hdf5\n",
    "File_save_names = '/Users/zhouyangshen/Desktop/Python_Nucleus_Segmentation/75_hypotonic_shock'\n",
    "seg_save_name='{File_Name}_segmentation_result.hdf5'.format(File_Name = File_save_names)\n",
    "\n",
    "with h5py.File(seg_save_name, \"w\") as f:\n",
    "      f.create_dataset('Mid Plane', data = Segment_tracker.mid_slice_stack, compression = 'gzip')\n",
    "      f.create_dataset('Segmented Object', data = track.segmented_object_image, compression = 'gzip')\n",
    "      f.create_dataset('Segmentation with ID', data = labelled_segmented_image, compression = 'gzip')\n",
    "      f.create_dataset('Distance Map', data = track.watershed_map_list, compression = 'gzip')\n",
    "      f.create_dataset('Seed Map', data = track.seed_map_list, compression = 'gzip')\n",
    "      f.create_dataset('Normalized and Smooth Image', data = track.structure_img_smooth, compression = 'gzip')\n"
   ]
  },
  {
   "cell_type": "code",
   "execution_count": 73,
   "metadata": {},
   "outputs": [],
   "source": [
    "# Save table to csv\n",
    "table_save_name = '{File_Name}_statistic_result.csv'.format(File_Name = File_save_names)\n",
    "\n",
    "Labelled_table.to_csv(table_save_name,index=False)"
   ]
  },
  {
   "cell_type": "code",
   "execution_count": null,
   "metadata": {},
   "outputs": [],
   "source": []
  }
 ],
 "metadata": {
  "kernelspec": {
   "display_name": "Python 3",
   "language": "python",
   "name": "python3"
  },
  "language_info": {
   "codemirror_mode": {
    "name": "ipython",
    "version": 3
   },
   "file_extension": ".py",
   "mimetype": "text/x-python",
   "name": "python",
   "nbconvert_exporter": "python",
   "pygments_lexer": "ipython3",
   "version": "3.7.6"
  }
 },
 "nbformat": 4,
 "nbformat_minor": 2
}
